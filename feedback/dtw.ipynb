{
 "cells": [
  {
   "cell_type": "code",
   "execution_count": 1,
   "metadata": {},
   "outputs": [],
   "source": [
    "# Installing necessary packages\n",
    "!git clone https://github.com/tensorflow/docs.git\n",
    "!pip install -q ./docs\n",
    "!pip install -q tensorflow-hub\n",
    "!pip install -q opencv-python\n",
    "!pip install -q tslearn"
   ]
  },
  {
   "cell_type": "code",
   "execution_count": 1,
   "metadata": {
    "id": "GVWOiTWwshrG"
   },
   "outputs": [
    {
     "name": "stdout",
     "output_type": "stream",
     "text": [
      "WARNING:tensorflow:From C:\\Users\\joud0\\anaconda3\\Lib\\site-packages\\keras\\src\\losses.py:2976: The name tf.losses.sparse_softmax_cross_entropy is deprecated. Please use tf.compat.v1.losses.sparse_softmax_cross_entropy instead.\n",
      "\n",
      "WARNING:tensorflow:From C:\\Users\\joud0\\anaconda3\\Lib\\site-packages\\tensorflow_estimator\\python\\estimator\\util.py:74: The name tf.train.SessionRunHook is deprecated. Please use tf.estimator.SessionRunHook instead.\n",
      "\n",
      "WARNING:tensorflow:From C:\\Users\\joud0\\anaconda3\\Lib\\site-packages\\tensorflow_hub\\native_module.py:92: The name tf.GraphKeys is deprecated. Please use tf.compat.v1.GraphKeys instead.\n",
      "\n",
      "WARNING:tensorflow:From C:\\Users\\joud0\\anaconda3\\Lib\\site-packages\\tensorflow_hub\\saved_model_module.py:40: The name tf.saved_model.constants.LEGACY_INIT_OP_KEY is deprecated. Please use tf.compat.v1.saved_model.constants.LEGACY_INIT_OP_KEY instead.\n",
      "\n",
      "WARNING:tensorflow:From C:\\Users\\joud0\\anaconda3\\Lib\\site-packages\\tensorflow_hub\\resolver.py:120: The name tf.gfile.MakeDirs is deprecated. Please use tf.io.gfile.makedirs instead.\n",
      "\n"
     ]
    },
    {
     "name": "stderr",
     "output_type": "stream",
     "text": [
      "WARNING:tensorflow:From C:\\Users\\joud0\\anaconda3\\Lib\\site-packages\\tensorflow_hub\\resolver.py:120: The name tf.gfile.MakeDirs is deprecated. Please use tf.io.gfile.makedirs instead.\n",
      "\n"
     ]
    },
    {
     "name": "stdout",
     "output_type": "stream",
     "text": [
      "WARNING:tensorflow:From C:\\Users\\joud0\\anaconda3\\Lib\\site-packages\\tensorflow_hub\\module_v2.py:120: The name tf.saved_model.load_v2 is deprecated. Please use tf.compat.v2.saved_model.load instead.\n",
      "\n"
     ]
    },
    {
     "name": "stderr",
     "output_type": "stream",
     "text": [
      "WARNING:tensorflow:From C:\\Users\\joud0\\anaconda3\\Lib\\site-packages\\tensorflow_hub\\module_v2.py:120: The name tf.saved_model.load_v2 is deprecated. Please use tf.compat.v2.saved_model.load instead.\n",
      "\n"
     ]
    }
   ],
   "source": [
    "# Importing necessary packages\n",
    "import tensorflow as tf\n",
    "import tensorflow_hub as hub\n",
    "from tensorflow_docs.vis import embed\n",
    "import numpy as np\n",
    "import cv2\n",
    "\n",
    "import pandas as pd\n",
    "import os\n",
    "import subprocess\n",
    "\n",
    "from tslearn.metrics import dtw as ts_dtw\n",
    "\n",
    "# Running a Jupyter notebook file named 'movenet.ipynb'\n",
    "%run movenet.ipynb"
   ]
  },
  {
   "cell_type": "code",
   "execution_count": 7,
   "metadata": {
    "id": "z37ZnjItuJCK"
   },
   "outputs": [],
   "source": [
    "# Function to process a single frame\n",
    "def process_frame(frame, crop_region, frame_height, frame_width):\n",
    "\n",
    "    keypoints_with_scores = run_inference(\n",
    "        movenet, frame,\n",
    "        crop_region,\n",
    "        crop_size=[input_size, input_size])\n",
    "    crop_region = determine_crop_region(keypoints_with_scores, frame_height, frame_width)\n",
    "    frame_record = get_video_frame_record(keypoints_with_scores)\n",
    "    \n",
    "    return frame_record, crop_region"
   ]
  },
  {
   "cell_type": "code",
   "execution_count": 8,
   "metadata": {},
   "outputs": [],
   "source": [
    "# Function to create a DataFrame from video records\n",
    "def dataframe(video_records):\n",
    "    video_df_cols = get_dataframe_cols()\n",
    "    video_df = pd.DataFrame(data=video_records, columns=video_df_cols)\n",
    "    video_df.to_csv(\"real_time_output.csv\", index=False)"
   ]
  },
  {
   "cell_type": "markdown",
   "metadata": {},
   "source": [
    "## Feedback -1"
   ]
  },
  {
   "cell_type": "code",
   "execution_count": 9,
   "metadata": {},
   "outputs": [],
   "source": [
    "# List of body joints for analysis\n",
    "body_joints = ['right_shoulder_x','right_shoulder_y',\n",
    "              'left_shoulder_x', 'left_shoulder_y', \n",
    "              'right_elbow_x', 'right_elbow_y',\n",
    "              'left_elbow_x', 'left_elbow_y',\n",
    "              'right_wrist_x', 'right_wrist_y',\n",
    "              'left_wrist_x', 'left_wrist_y',\n",
    "              'left_hip_x', 'left_hip_y',\n",
    "              'right_hip_x', 'right_hip_y',\n",
    "              'left_knee_x', 'left_knee_y',\n",
    "              'right_knee_x', 'right_knee_y']"
   ]
  },
  {
   "cell_type": "code",
   "execution_count": 10,
   "metadata": {},
   "outputs": [],
   "source": [
    "# Reading ground truth data from a CSV file\n",
    "ground_truth = pd.read_csv('csvs/E_ID15_Es1.csv')[body_joints]\n",
    "\n",
    "# Function to provide feedback based on Dynamic Time Warping (DTW) comparisons\n",
    "def feedback(counter):\n",
    "    video = pd.read_csv('real_time_output.csv')\n",
    "    for joint in body_joints:\n",
    "        dtw = ts_dtw(video[joint][:counter], ground_truth[joint][:counter])\n",
    "        if dtw > 2.5:\n",
    "            axis = 'vertically' if joint[-1:] == 'y' else 'horizontally'\n",
    "            print(f'Adjust your {joint.replace(\"_\", \" \")[:-2]} {axis}')"
   ]
  },
  {
   "cell_type": "code",
   "execution_count": 6,
   "metadata": {},
   "outputs": [],
   "source": [
    "# Function to record a video of an exercise in real-time\n",
    "def film_exercise():\n",
    "    \n",
    "    limit = 500\n",
    "        \n",
    "    cap = cv2.VideoCapture(0)\n",
    "\n",
    "    if not cap.isOpened():\n",
    "        print(\"Cannot open camera\")\n",
    "        exit()\n",
    "\n",
    "    frame_rate = int(cap.get(cv2.CAP_PROP_FPS))\n",
    "    frame_width = int(cap.get(cv2.CAP_PROP_FRAME_WIDTH))\n",
    "    frame_height = int(cap.get(cv2.CAP_PROP_FRAME_HEIGHT))\n",
    "    crop_region = init_crop_region(frame_height, frame_width)\n",
    "\n",
    "    video_records = []\n",
    "    counter = 0\n",
    "    start = False\n",
    "    \n",
    "    while True:\n",
    "        ret, frame = cap.read()\n",
    "        \n",
    "        if counter == 0: \n",
    "            cv2.waitKey(10)\n",
    "            print('START ... ')\n",
    "            start = True\n",
    "            \n",
    "        counter+=1\n",
    "        if not ret:\n",
    "            print(\"Can't receive frame (stream end?). Exiting ...\")\n",
    "            break\n",
    "        cv2.imshow('frame', frame)\n",
    "\n",
    "        if cv2.waitKey(1) == ord('q'):\n",
    "            break\n",
    "        if counter == limit:\n",
    "            break\n",
    "            \n",
    "        if start == True:\n",
    "            frame_record, crop_region = process_frame(frame, crop_region, frame_height, frame_width)\n",
    "            video_records.append(frame_record)\n",
    "            dataframe(video_records)\n",
    "            if counter % 30 == 0:\n",
    "                print(f' {counter} \\t\\t {feedback(counter)}')\n",
    "        else:\n",
    "            continue\n",
    "\n",
    "    cap.release()\n",
    "    cv2.destroyAllWindows()\n",
    "\n",
    "    print(counter)"
   ]
  },
  {
   "cell_type": "code",
   "execution_count": 12,
   "metadata": {},
   "outputs": [
    {
     "name": "stdout",
     "output_type": "stream",
     "text": [
      "START ... \n",
      " 30 \t\t None\n",
      " 60 \t\t None\n",
      " 90 \t\t None\n",
      " 120 \t\t None\n",
      "Adjust your left wrist vertically\n",
      " 150 \t\t None\n",
      "Adjust your right wrist vertically\n",
      "Adjust your left wrist vertically\n",
      " 180 \t\t None\n",
      "Adjust your right wrist vertically\n",
      "Adjust your left wrist vertically\n",
      " 210 \t\t None\n",
      "Adjust your right wrist vertically\n",
      "Adjust your left wrist vertically\n",
      " 240 \t\t None\n",
      "Adjust your right wrist vertically\n",
      "Adjust your left wrist vertically\n",
      " 270 \t\t None\n",
      "Adjust your right wrist vertically\n",
      "Adjust your left wrist vertically\n",
      " 300 \t\t None\n",
      "Adjust your right wrist vertically\n",
      "Adjust your left wrist horizontally\n",
      "Adjust your left wrist vertically\n",
      "Adjust your left knee vertically\n",
      "Adjust your right knee vertically\n",
      " 330 \t\t None\n",
      "Adjust your right wrist vertically\n",
      "Adjust your left wrist horizontally\n",
      "Adjust your left wrist vertically\n",
      "Adjust your left knee vertically\n",
      "Adjust your right knee vertically\n",
      " 360 \t\t None\n",
      "Adjust your right wrist vertically\n",
      "Adjust your left wrist horizontally\n",
      "Adjust your left wrist vertically\n",
      "Adjust your left knee vertically\n",
      "Adjust your right knee vertically\n",
      " 390 \t\t None\n",
      "Adjust your right wrist vertically\n",
      "Adjust your left wrist horizontally\n",
      "Adjust your left wrist vertically\n",
      "Adjust your left knee vertically\n",
      "Adjust your right knee vertically\n",
      " 420 \t\t None\n",
      "Adjust your right wrist vertically\n",
      "Adjust your left wrist horizontally\n",
      "Adjust your left wrist vertically\n",
      "Adjust your left knee vertically\n",
      "Adjust your right knee vertically\n",
      " 450 \t\t None\n",
      "466\n"
     ]
    }
   ],
   "source": [
    "# Calling the function to record the exercise in real-time\n",
    "film_exercise()"
   ]
  },
  {
   "cell_type": "code",
   "execution_count": null,
   "metadata": {},
   "outputs": [],
   "source": []
  }
 ],
 "metadata": {
  "colab": {
   "provenance": []
  },
  "kernelspec": {
   "display_name": "Python 3 (ipykernel)",
   "language": "python",
   "name": "python3"
  },
  "language_info": {
   "codemirror_mode": {
    "name": "ipython",
    "version": 3
   },
   "file_extension": ".py",
   "mimetype": "text/x-python",
   "name": "python",
   "nbconvert_exporter": "python",
   "pygments_lexer": "ipython3",
   "version": "3.11.3"
  }
 },
 "nbformat": 4,
 "nbformat_minor": 1
}
