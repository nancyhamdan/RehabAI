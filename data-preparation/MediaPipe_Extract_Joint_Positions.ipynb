{
  "nbformat": 4,
  "nbformat_minor": 0,
  "metadata": {
    "colab": {
      "provenance": []
    },
    "kernelspec": {
      "name": "python3",
      "display_name": "Python 3"
    },
    "language_info": {
      "name": "python"
    }
  },
  "cells": [
    {
      "cell_type": "code",
      "execution_count": 1,
      "metadata": {
        "colab": {
          "base_uri": "https://localhost:8080/"
        },
        "id": "VSHsLQmHePYz",
        "outputId": "6cae0a58-c576-4cc7-b836-c068f74b577c"
      },
      "outputs": [
        {
          "output_type": "stream",
          "name": "stdout",
          "text": [
            "Mounted at /content/gdrive\n"
          ]
        }
      ],
      "source": [
        "from google.colab import drive\n",
        "drive.mount('/content/gdrive')"
      ]
    },
    {
      "cell_type": "code",
      "source": [
        "!pip install mediapipe"
      ],
      "metadata": {
        "id": "gTZEyVYlfBvI",
        "colab": {
          "base_uri": "https://localhost:8080/"
        },
        "outputId": "b245285f-64b1-458a-ccd0-299bbecac205"
      },
      "execution_count": 2,
      "outputs": [
        {
          "output_type": "stream",
          "name": "stdout",
          "text": [
            "Collecting mediapipe\n",
            "  Downloading mediapipe-0.10.5-cp310-cp310-manylinux_2_17_x86_64.manylinux2014_x86_64.whl (33.5 MB)\n",
            "\u001b[2K     \u001b[90m━━━━━━━━━━━━━━━━━━━━━━━━━━━━━━━━━━━━━━━━\u001b[0m \u001b[32m33.5/33.5 MB\u001b[0m \u001b[31m45.5 MB/s\u001b[0m eta \u001b[36m0:00:00\u001b[0m\n",
            "\u001b[?25hRequirement already satisfied: absl-py in /usr/local/lib/python3.10/dist-packages (from mediapipe) (1.4.0)\n",
            "Requirement already satisfied: attrs>=19.1.0 in /usr/local/lib/python3.10/dist-packages (from mediapipe) (23.1.0)\n",
            "Requirement already satisfied: flatbuffers>=2.0 in /usr/local/lib/python3.10/dist-packages (from mediapipe) (23.5.26)\n",
            "Requirement already satisfied: matplotlib in /usr/local/lib/python3.10/dist-packages (from mediapipe) (3.7.1)\n",
            "Requirement already satisfied: numpy in /usr/local/lib/python3.10/dist-packages (from mediapipe) (1.23.5)\n",
            "Requirement already satisfied: opencv-contrib-python in /usr/local/lib/python3.10/dist-packages (from mediapipe) (4.8.0.76)\n",
            "Requirement already satisfied: protobuf<4,>=3.11 in /usr/local/lib/python3.10/dist-packages (from mediapipe) (3.20.3)\n",
            "Collecting sounddevice>=0.4.4 (from mediapipe)\n",
            "  Downloading sounddevice-0.4.6-py3-none-any.whl (31 kB)\n",
            "Requirement already satisfied: CFFI>=1.0 in /usr/local/lib/python3.10/dist-packages (from sounddevice>=0.4.4->mediapipe) (1.15.1)\n",
            "Requirement already satisfied: contourpy>=1.0.1 in /usr/local/lib/python3.10/dist-packages (from matplotlib->mediapipe) (1.1.0)\n",
            "Requirement already satisfied: cycler>=0.10 in /usr/local/lib/python3.10/dist-packages (from matplotlib->mediapipe) (0.11.0)\n",
            "Requirement already satisfied: fonttools>=4.22.0 in /usr/local/lib/python3.10/dist-packages (from matplotlib->mediapipe) (4.42.1)\n",
            "Requirement already satisfied: kiwisolver>=1.0.1 in /usr/local/lib/python3.10/dist-packages (from matplotlib->mediapipe) (1.4.5)\n",
            "Requirement already satisfied: packaging>=20.0 in /usr/local/lib/python3.10/dist-packages (from matplotlib->mediapipe) (23.1)\n",
            "Requirement already satisfied: pillow>=6.2.0 in /usr/local/lib/python3.10/dist-packages (from matplotlib->mediapipe) (9.4.0)\n",
            "Requirement already satisfied: pyparsing>=2.3.1 in /usr/local/lib/python3.10/dist-packages (from matplotlib->mediapipe) (3.1.1)\n",
            "Requirement already satisfied: python-dateutil>=2.7 in /usr/local/lib/python3.10/dist-packages (from matplotlib->mediapipe) (2.8.2)\n",
            "Requirement already satisfied: pycparser in /usr/local/lib/python3.10/dist-packages (from CFFI>=1.0->sounddevice>=0.4.4->mediapipe) (2.21)\n",
            "Requirement already satisfied: six>=1.5 in /usr/local/lib/python3.10/dist-packages (from python-dateutil>=2.7->matplotlib->mediapipe) (1.16.0)\n",
            "Installing collected packages: sounddevice, mediapipe\n",
            "Successfully installed mediapipe-0.10.5 sounddevice-0.4.6\n"
          ]
        }
      ]
    },
    {
      "cell_type": "code",
      "source": [
        "!wget -O pose_landmarker.task -q https://storage.googleapis.com/mediapipe-models/pose_landmarker/pose_landmarker_heavy/float16/1/pose_landmarker_heavy.task"
      ],
      "metadata": {
        "id": "uyR-2A0ofyfP"
      },
      "execution_count": 3,
      "outputs": []
    },
    {
      "cell_type": "code",
      "source": [
        "import mediapipe as mp\n",
        "from mediapipe.tasks import python\n",
        "from mediapipe.tasks.python import vision\n",
        "from mediapipe import solutions\n",
        "mp_pose = mp.solutions.pose\n",
        "from mediapipe.framework.formats import landmark_pb2\n",
        "\n",
        "import cv2\n",
        "from google.colab.patches import cv2_imshow\n",
        "\n",
        "import os\n",
        "import subprocess\n",
        "\n",
        "import pandas as pd\n",
        "import numpy as np"
      ],
      "metadata": {
        "id": "GVWOiTWwshrG"
      },
      "execution_count": 4,
      "outputs": []
    },
    {
      "cell_type": "code",
      "source": [
        "def draw_landmarks_on_image(rgb_image, detection_result):\n",
        "  pose_landmarks_list = detection_result.pose_landmarks\n",
        "  annotated_image = np.copy(rgb_image)\n",
        "\n",
        "  # Loop through the detected poses to visualize.\n",
        "  for idx in range(len(pose_landmarks_list)):\n",
        "    pose_landmarks = pose_landmarks_list[idx]\n",
        "\n",
        "    # Draw the pose landmarks.\n",
        "    pose_landmarks_proto = landmark_pb2.NormalizedLandmarkList()\n",
        "    pose_landmarks_proto.landmark.extend([\n",
        "      landmark_pb2.NormalizedLandmark(x=landmark.x, y=landmark.y, z=landmark.z) for landmark in pose_landmarks\n",
        "    ])\n",
        "    solutions.drawing_utils.draw_landmarks(\n",
        "      annotated_image,\n",
        "      pose_landmarks_proto,\n",
        "      solutions.pose.POSE_CONNECTIONS,\n",
        "      solutions.drawing_styles.get_default_pose_landmarks_style())\n",
        "  return annotated_image"
      ],
      "metadata": {
        "id": "-NH79QHsaabJ"
      },
      "execution_count": 5,
      "outputs": []
    },
    {
      "cell_type": "code",
      "source": [
        "def get_dataframe_cols():\n",
        "  cols = []\n",
        "  for landmark in mp_pose.PoseLandmark:\n",
        "    name = landmark.name\n",
        "    cols.append(f'{name}_x')\n",
        "    cols.append(f'{name}_y')\n",
        "    cols.append(f'{name}_z')\n",
        "    cols.append(f'{name}_visibility')\n",
        "    cols.append(f'{name}_presence')\n",
        "  return cols"
      ],
      "metadata": {
        "id": "K0SasQ3j6zmJ"
      },
      "execution_count": 6,
      "outputs": []
    },
    {
      "cell_type": "code",
      "source": [
        "def get_video_frame_record(pose_landmarks):\n",
        "  record = []\n",
        "  if pose_landmarks:\n",
        "    for landmark in pose_landmarks[0]:\n",
        "      record.append(landmark.x)\n",
        "      record.append(landmark.y)\n",
        "      record.append(landmark.z)\n",
        "      record.append(landmark.visibility)\n",
        "      record.append(landmark.presence)\n",
        "    return record\n",
        "  else:\n",
        "    return [0] * 165"
      ],
      "metadata": {
        "id": "vSrScYcr69gG"
      },
      "execution_count": 7,
      "outputs": []
    },
    {
      "cell_type": "code",
      "source": [
        "def process_video(exercise_rgb_dir, exercise_label_path, input_video_name, output_video_name):\n",
        "  model_path = '/content/pose_landmarker.task'\n",
        "\n",
        "  BaseOptions = mp.tasks.BaseOptions\n",
        "  PoseLandmarker = mp.tasks.vision.PoseLandmarker\n",
        "  PoseLandmarkerOptions = mp.tasks.vision.PoseLandmarkerOptions\n",
        "  VisionRunningMode = mp.tasks.vision.RunningMode\n",
        "\n",
        "  options = PoseLandmarkerOptions(\n",
        "      base_options=BaseOptions(model_asset_path=model_path),\n",
        "      running_mode=VisionRunningMode.VIDEO)\n",
        "\n",
        "  video_records = []\n",
        "  with PoseLandmarker.create_from_options(options) as landmarker:\n",
        "    cap = cv2.VideoCapture(f\"{exercise_rgb_dir}/rgb/{input_video_name}\")\n",
        "    frame_rate = int(cap.get(cv2.CAP_PROP_FPS))\n",
        "    frame_width = int(cap.get(cv2.CAP_PROP_FRAME_WIDTH))\n",
        "    frame_height = int(cap.get(cv2.CAP_PROP_FRAME_HEIGHT))\n",
        "\n",
        "    # Define the codec and create VideoWriter object\n",
        "    fourcc = cv2.VideoWriter_fourcc(*'MP4V')\n",
        "    mediapipe_video_name = f\"{exercise_rgb_dir}/{output_video_name}.mp4\"\n",
        "    out = cv2.VideoWriter(mediapipe_video_name, fourcc, frame_rate, (frame_width, frame_height))\n",
        "\n",
        "    frame_count = 0\n",
        "    while True:\n",
        "      ret, frame = cap.read()\n",
        "      if not ret:\n",
        "        break\n",
        "\n",
        "      frame_timestamp_ms = int(frame_count * 1000 / frame_rate)  # Calculate timestamp in milliseconds\n",
        "      frame_count += 1\n",
        "\n",
        "      mp_image = mp.Image(image_format=mp.ImageFormat.SRGB, data=frame)\n",
        "      pose_landmarker_result = landmarker.detect_for_video(mp_image, frame_timestamp_ms)\n",
        "\n",
        "      frame_record = get_video_frame_record(pose_landmarker_result.pose_landmarks)\n",
        "      video_records.append(frame_record)\n",
        "\n",
        "      annotated_image = draw_landmarks_on_image(frame, pose_landmarker_result)\n",
        "      out.write(annotated_image)\n",
        "\n",
        "    cap.release()\n",
        "    out.release()\n",
        "    cv2.destroyAllWindows()\n",
        "  video_df_cols = get_dataframe_cols()\n",
        "  video_df = pd.DataFrame(data=video_records, columns=video_df_cols)\n",
        "  video_df.to_csv(f\"{exercise_rgb_dir}/{output_video_name}.csv\", index=False)\n",
        "  cmd = f\"cp {exercise_label_path} {exercise_rgb_dir}\"\n",
        "  subprocess.run(cmd, shell=True)"
      ],
      "metadata": {
        "id": "z37ZnjItuJCK"
      },
      "execution_count": 8,
      "outputs": []
    },
    {
      "cell_type": "markdown",
      "source": [
        "### Subgroups processed:\n",
        "Wall time: 1h 20min 49s<br>\n",
        "SUB_GROUP_RGB_DIR = \"/content/gdrive/MyDrive/PSUT/Graduation-Project2/KiMoRe_rgb/GPP/BackPain\"<br>\n",
        "SUB_GROUP_DIR = \"/content/gdrive/MyDrive/PSUT/Graduation-Project2/KiMoRe/GPP/BackPain\"\n",
        "<br><br>\n",
        "Wall time: 2h 51min 32s<br>\n",
        "SUB_GROUP_RGB_DIR = \"/content/gdrive/MyDrive/PSUT/Graduation-Project2/KiMoRe_rgb/CG/Expert\"<br>\n",
        "SUB_GROUP_DIR = \"/content/gdrive/MyDrive/PSUT/Graduation-Project2/KiMoRe/CG/Expert\"\n",
        "<br><br>\n",
        "Wall time: A bit over 5 hours<br>\n",
        "SUB_GROUP_RGB_DIR = \"/content/gdrive/MyDrive/PSUT/Graduation-Project2/KiMoRe_rgb/CG/NotExpert\"<br>\n",
        "SUB_GROUP_DIR = \"/content/gdrive/MyDrive/PSUT/Graduation-Project2/KiMoRe/CG/NotExpert\"<br>\n",
        "<br><br>\n",
        "Wall time: 1h 50min 35s<br>\n",
        "SUB_GROUP_RGB_DIR = \"/content/gdrive/MyDrive/PSUT/Graduation-Project2/KiMoRe_rgb/GPP/Parkinson\"<br>\n",
        "SUB_GROUP_DIR = \"/content/gdrive/MyDrive/PSUT/Graduation-Project2/KiMoRe/GPP/Parkinson\"<br>\n",
        "<br><br>\n",
        "Wall time: 1h 4min 50s<br>\n",
        "SUB_GROUP_RGB_DIR = \"/content/gdrive/MyDrive/PSUT/Graduation-Project2/KiMoRe_rgb/GPP/Stroke\"<br>\n",
        "SUB_GROUP_DIR = \"/content/gdrive/MyDrive/PSUT/Graduation-Project2/KiMoRe/GPP/Stroke\"<br>\n"
      ],
      "metadata": {
        "id": "ZgaQnGlA_IV9"
      }
    },
    {
      "cell_type": "code",
      "source": [
        "SUB_GROUP_RGB_DIR = \"/content/gdrive/MyDrive/PSUT/Graduation-Project2/KiMoRe_rgb/GPP/Stroke\"\n",
        "SUB_GROUP_DIR = \"/content/gdrive/MyDrive/PSUT/Graduation-Project2/KiMoRe/GPP/Stroke\""
      ],
      "metadata": {
        "id": "nF-0Affi7XSp"
      },
      "execution_count": 11,
      "outputs": []
    },
    {
      "cell_type": "code",
      "source": [
        "%%time\n",
        "\n",
        "unprocessed_videos = []\n",
        "for participant in os.listdir(SUB_GROUP_RGB_DIR):\n",
        "  print(f\"\\t{participant}\")\n",
        "  participant_dir = f\"{SUB_GROUP_RGB_DIR}/{participant}\"\n",
        "  for exercise in os.listdir(participant_dir):\n",
        "    print(f\"\\t\\t{exercise}\")\n",
        "    exercise_rgb_dir = f\"{participant_dir}/{exercise}\"\n",
        "    exercise_dir = f\"{SUB_GROUP_DIR}/{participant}/{exercise}/Label/\"\n",
        "    exercise_label_path = None\n",
        "\n",
        "    for file in os.listdir(exercise_dir):\n",
        "      if file.startswith(\"ClinicalAssessment\"):\n",
        "        exercise_label_path = f\"{exercise_dir}/{file}\"\n",
        "\n",
        "    if not os.listdir(f\"{exercise_rgb_dir}/rgb\"):\n",
        "      print(f\"\\t\\t\\tNo video found for exercise {exercise} of {participant}.\")\n",
        "      unprocessed_videos.append(exercise_rgb_dir)\n",
        "      continue\n",
        "\n",
        "    input_video_name = None\n",
        "    for file in os.listdir(f\"{exercise_rgb_dir}/rgb\"):\n",
        "      if file.endswith(\".mp4\"):\n",
        "        input_video_name = file\n",
        "        output_video_name = f\"{participant}_{exercise}\"\n",
        "        process_video(exercise_rgb_dir, exercise_label_path, input_video_name, output_video_name)\n",
        "        print(f\"\\t\\t\\tFinished processing {output_video_name}.mp4\")"
      ],
      "metadata": {
        "colab": {
          "base_uri": "https://localhost:8080/"
        },
        "id": "1SzoSNJL_qt2",
        "outputId": "d0c65ed4-c862-4696-b313-b62a4657fe75"
      },
      "execution_count": 12,
      "outputs": [
        {
          "output_type": "stream",
          "name": "stdout",
          "text": [
            "\tS_ID4\n",
            "\t\tEs2\n",
            "\t\t\tFinished processing S_ID4_Es2.mp4\n",
            "\t\tEs5\n",
            "\t\t\tFinished processing S_ID4_Es5.mp4\n",
            "\t\tEs1\n",
            "\t\t\tFinished processing S_ID4_Es1.mp4\n",
            "\t\tEs4\n",
            "\t\t\tFinished processing S_ID4_Es4.mp4\n",
            "\t\tEs3\n",
            "\t\t\tFinished processing S_ID4_Es3.mp4\n",
            "\tS_ID2\n",
            "\t\tEs3\n",
            "\t\t\tNo video found for exercise Es3 of S_ID2.\n",
            "\t\tEs5\n",
            "\t\t\tNo video found for exercise Es5 of S_ID2.\n",
            "\t\tEs4\n",
            "\t\t\tFinished processing S_ID2_Es4.mp4\n",
            "\t\tEs2\n",
            "\t\t\tNo video found for exercise Es2 of S_ID2.\n",
            "\t\tEs1\n",
            "\t\t\tNo video found for exercise Es1 of S_ID2.\n",
            "\tS_ID5\n",
            "\t\tEs5\n",
            "\t\t\tFinished processing S_ID5_Es5.mp4\n",
            "\t\tEs3\n",
            "\t\t\tNo video found for exercise Es3 of S_ID5.\n",
            "\t\tEs2\n",
            "\t\t\tFinished processing S_ID5_Es2.mp4\n",
            "\t\tEs4\n",
            "\t\t\tFinished processing S_ID5_Es4.mp4\n",
            "\t\tEs1\n",
            "\t\t\tFinished processing S_ID5_Es1.mp4\n",
            "\tS_ID3\n",
            "\t\tEs3\n",
            "\t\t\tFinished processing S_ID3_Es3.mp4\n",
            "\t\tEs2\n",
            "\t\t\tFinished processing S_ID3_Es2.mp4\n",
            "\t\tEs5\n",
            "\t\t\tFinished processing S_ID3_Es5.mp4\n",
            "\t\tEs4\n",
            "\t\t\tNo video found for exercise Es4 of S_ID3.\n",
            "\t\tEs1\n",
            "\t\t\tFinished processing S_ID3_Es1.mp4\n",
            "\tS_ID7\n",
            "\t\tEs4\n",
            "\t\t\tFinished processing S_ID7_Es4.mp4\n",
            "\t\tEs3\n",
            "\t\t\tFinished processing S_ID7_Es3.mp4\n",
            "\t\tEs2\n",
            "\t\t\tFinished processing S_ID7_Es2.mp4\n",
            "\t\tEs5\n",
            "\t\t\tFinished processing S_ID7_Es5.mp4\n",
            "\t\tEs1\n",
            "\t\t\tFinished processing S_ID7_Es1.mp4\n",
            "\tS_ID6\n",
            "\t\tEs3\n",
            "\t\t\tFinished processing S_ID6_Es3.mp4\n",
            "\t\tEs2\n",
            "\t\t\tFinished processing S_ID6_Es2.mp4\n",
            "\t\tEs5\n",
            "\t\t\tFinished processing S_ID6_Es5.mp4\n",
            "\t\tEs4\n",
            "\t\t\tFinished processing S_ID6_Es4.mp4\n",
            "\t\tEs1\n",
            "\t\t\tFinished processing S_ID6_Es1.mp4\n",
            "\tS_ID1\n",
            "\t\tEs2\n",
            "\t\t\tFinished processing S_ID1_Es2.mp4\n",
            "\t\tEs5\n",
            "\t\t\tFinished processing S_ID1_Es5.mp4\n",
            "\t\tEs3\n",
            "\t\t\tFinished processing S_ID1_Es3.mp4\n",
            "\t\tEs4\n",
            "\t\t\tFinished processing S_ID1_Es4.mp4\n",
            "\t\tEs1\n",
            "\t\t\tNo video found for exercise Es1 of S_ID1.\n",
            "\tS_ID10\n",
            "\t\tEs5\n",
            "\t\t\tFinished processing S_ID10_Es5.mp4\n",
            "\t\tEs3\n",
            "\t\t\tFinished processing S_ID10_Es3.mp4\n",
            "\t\tEs2\n",
            "\t\t\tFinished processing S_ID10_Es2.mp4\n",
            "\t\tEs4\n",
            "\t\t\tFinished processing S_ID10_Es4.mp4\n",
            "\t\tEs1\n",
            "\t\t\tFinished processing S_ID10_Es1.mp4\n",
            "\tS_ID9\n",
            "\t\tEs5\n",
            "\t\t\tFinished processing S_ID9_Es5.mp4\n",
            "\t\tEs2\n",
            "\t\t\tFinished processing S_ID9_Es2.mp4\n",
            "\t\tEs3\n",
            "\t\t\tFinished processing S_ID9_Es3.mp4\n",
            "\t\tEs4\n",
            "\t\t\tFinished processing S_ID9_Es4.mp4\n",
            "\t\tEs1\n",
            "\t\t\tFinished processing S_ID9_Es1.mp4\n",
            "\tS_ID8\n",
            "\t\tEs2\n",
            "\t\t\tFinished processing S_ID8_Es2.mp4\n",
            "\t\tEs3\n",
            "\t\t\tFinished processing S_ID8_Es3.mp4\n",
            "\t\tEs5\n",
            "\t\t\tFinished processing S_ID8_Es5.mp4\n",
            "\t\tEs4\n",
            "\t\t\tFinished processing S_ID8_Es4.mp4\n",
            "\t\tEs1\n",
            "\t\t\tFinished processing S_ID8_Es1.mp4\n",
            "CPU times: user 1h 26min 19s, sys: 16.2 s, total: 1h 26min 35s\n",
            "Wall time: 1h 26min 50s\n"
          ]
        }
      ]
    },
    {
      "cell_type": "code",
      "source": [],
      "metadata": {
        "id": "th6M20S5Ijlo"
      },
      "execution_count": null,
      "outputs": []
    }
  ]
}