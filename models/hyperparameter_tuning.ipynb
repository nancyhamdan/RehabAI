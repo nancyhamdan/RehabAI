{
  "cells": [
    {
      "cell_type": "markdown",
      "source": [
        "####  Please note that this notebook was used in early phases of the project and it is just added to the GitHub repo for reference, this is why it does not reflect the final model data preparation code used."
      ],
      "metadata": {
        "id": "DKGISNpBtOfn"
      }
    },
    {
      "cell_type": "code",
      "execution_count": null,
      "metadata": {
        "id": "spFnEq5UK2l2"
      },
      "outputs": [],
      "source": [
        "!!pip install -q git+https://github.com/keras-team/keras-nlp.git --upgrade"
      ]
    },
    {
      "cell_type": "code",
      "execution_count": null,
      "metadata": {
        "colab": {
          "base_uri": "https://localhost:8080/"
        },
        "id": "QrfXlFtVK5F_",
        "outputId": "b3444db5-cc21-41ce-bd8b-54c096cbcbf7"
      },
      "outputs": [
        {
          "name": "stdout",
          "output_type": "stream",
          "text": [
            "Using TensorFlow backend\n"
          ]
        }
      ],
      "source": [
        "import keras_nlp"
      ]
    },
    {
      "cell_type": "code",
      "execution_count": null,
      "metadata": {
        "colab": {
          "base_uri": "https://localhost:8080/"
        },
        "id": "95UWLO7Gq11j",
        "outputId": "32bd7748-275b-490f-d4ab-401533c1238a"
      },
      "outputs": [
        {
          "data": {
            "text/plain": [
              "['\\x1b[?25l     \\x1b[90m━━━━━━━━━━━━━━━━━━━━━━━━━━━━━━━━━━━━━━━━\\x1b[0m \\x1b[32m0.0/128.9 kB\\x1b[0m \\x1b[31m?\\x1b[0m eta \\x1b[36m-:--:--\\x1b[0m',\n",
              " '\\x1b[2K     \\x1b[91m━━━━━━━━━\\x1b[0m\\x1b[91m╸\\x1b[0m\\x1b[90m━━━━━━━━━━━━━━━━━━━━━━━━━━━━━━\\x1b[0m \\x1b[32m30.7/128.9 kB\\x1b[0m \\x1b[31m1.1 MB/s\\x1b[0m eta \\x1b[36m0:00:01\\x1b[0m',\n",
              " '\\x1b[2K     \\x1b[90m━━━━━━━━━━━━━━━━━━━━━━━━━━━━━━━━━━━━━━━━\\x1b[0m \\x1b[32m128.9/128.9 kB\\x1b[0m \\x1b[31m2.6 MB/s\\x1b[0m eta \\x1b[36m0:00:00\\x1b[0m',\n",
              " '\\x1b[?25h']"
            ]
          },
          "execution_count": 3,
          "metadata": {},
          "output_type": "execute_result"
        }
      ],
      "source": [
        "!!pip install keras-tuner -q"
      ]
    },
    {
      "cell_type": "code",
      "execution_count": null,
      "metadata": {
        "id": "-DVh6OXTQ0HD"
      },
      "outputs": [],
      "source": [
        "import pandas as pd\n",
        "import numpy as np\n",
        "import os\n",
        "\n",
        "from sklearn.model_selection import train_test_split"
      ]
    },
    {
      "cell_type": "markdown",
      "metadata": {
        "id": "bNf-wMRaJBzM"
      },
      "source": [
        "# Load and Prepare Data"
      ]
    },
    {
      "cell_type": "code",
      "execution_count": null,
      "metadata": {
        "id": "6wnPa4Xhd-K-"
      },
      "outputs": [],
      "source": [
        "df = pd.read_csv(\"/content/drive/MyDrive/PSUT/Graduation-Project2/rehab-ai-data/KiMoRe_final/KiMoRe_Es4_movenet.csv\")"
      ]
    },
    {
      "cell_type": "code",
      "execution_count": null,
      "metadata": {
        "colab": {
          "base_uri": "https://localhost:8080/",
          "height": 600
        },
        "id": "x1oz5eDK5W3W",
        "outputId": "eda01703-073e-427f-c9f8-e34ad206d3c8"
      },
      "outputs": [
        {
          "data": {
            "text/html": [
              "\n",
              "  <div id=\"df-28a02f8d-d69d-41e3-88a7-b5a06a28596d\" class=\"colab-df-container\">\n",
              "    <div>\n",
              "<style scoped>\n",
              "    .dataframe tbody tr th:only-of-type {\n",
              "        vertical-align: middle;\n",
              "    }\n",
              "\n",
              "    .dataframe tbody tr th {\n",
              "        vertical-align: top;\n",
              "    }\n",
              "\n",
              "    .dataframe thead th {\n",
              "        text-align: right;\n",
              "    }\n",
              "</style>\n",
              "<table border=\"1\" class=\"dataframe\">\n",
              "  <thead>\n",
              "    <tr style=\"text-align: right;\">\n",
              "      <th></th>\n",
              "      <th>ID</th>\n",
              "      <th>exercise</th>\n",
              "      <th>video</th>\n",
              "      <th>joint_positions</th>\n",
              "      <th>clinical_score</th>\n",
              "      <th>#frames</th>\n",
              "    </tr>\n",
              "  </thead>\n",
              "  <tbody>\n",
              "    <tr>\n",
              "      <th>0</th>\n",
              "      <td>P_ID11</td>\n",
              "      <td>Es4</td>\n",
              "      <td>/content/drive/MyDrive/PSUT/Graduation-Project...</td>\n",
              "      <td>/content/drive/MyDrive/PSUT/Graduation-Project...</td>\n",
              "      <td>15.333333</td>\n",
              "      <td>363</td>\n",
              "    </tr>\n",
              "    <tr>\n",
              "      <th>1</th>\n",
              "      <td>P_ID16</td>\n",
              "      <td>Es4</td>\n",
              "      <td>/content/drive/MyDrive/PSUT/Graduation-Project...</td>\n",
              "      <td>/content/drive/MyDrive/PSUT/Graduation-Project...</td>\n",
              "      <td>30.000000</td>\n",
              "      <td>746</td>\n",
              "    </tr>\n",
              "    <tr>\n",
              "      <th>2</th>\n",
              "      <td>P_ID10</td>\n",
              "      <td>Es4</td>\n",
              "      <td>/content/drive/MyDrive/PSUT/Graduation-Project...</td>\n",
              "      <td>/content/drive/MyDrive/PSUT/Graduation-Project...</td>\n",
              "      <td>32.149872</td>\n",
              "      <td>563</td>\n",
              "    </tr>\n",
              "    <tr>\n",
              "      <th>3</th>\n",
              "      <td>P_ID4</td>\n",
              "      <td>Es4</td>\n",
              "      <td>/content/drive/MyDrive/PSUT/Graduation-Project...</td>\n",
              "      <td>/content/drive/MyDrive/PSUT/Graduation-Project...</td>\n",
              "      <td>14.000000</td>\n",
              "      <td>941</td>\n",
              "    </tr>\n",
              "    <tr>\n",
              "      <th>4</th>\n",
              "      <td>P_ID3</td>\n",
              "      <td>Es4</td>\n",
              "      <td>NaN</td>\n",
              "      <td>NaN</td>\n",
              "      <td>-1.000000</td>\n",
              "      <td>0</td>\n",
              "    </tr>\n",
              "    <tr>\n",
              "      <th>...</th>\n",
              "      <td>...</td>\n",
              "      <td>...</td>\n",
              "      <td>...</td>\n",
              "      <td>...</td>\n",
              "      <td>...</td>\n",
              "      <td>...</td>\n",
              "    </tr>\n",
              "    <tr>\n",
              "      <th>73</th>\n",
              "      <td>E_ID4</td>\n",
              "      <td>Es4</td>\n",
              "      <td>/content/drive/MyDrive/PSUT/Graduation-Project...</td>\n",
              "      <td>/content/drive/MyDrive/PSUT/Graduation-Project...</td>\n",
              "      <td>44.333333</td>\n",
              "      <td>538</td>\n",
              "    </tr>\n",
              "    <tr>\n",
              "      <th>74</th>\n",
              "      <td>E_ID6</td>\n",
              "      <td>Es4</td>\n",
              "      <td>/content/drive/MyDrive/PSUT/Graduation-Project...</td>\n",
              "      <td>/content/drive/MyDrive/PSUT/Graduation-Project...</td>\n",
              "      <td>42.666667</td>\n",
              "      <td>415</td>\n",
              "    </tr>\n",
              "    <tr>\n",
              "      <th>75</th>\n",
              "      <td>E_ID1</td>\n",
              "      <td>Es4</td>\n",
              "      <td>/content/drive/MyDrive/PSUT/Graduation-Project...</td>\n",
              "      <td>/content/drive/MyDrive/PSUT/Graduation-Project...</td>\n",
              "      <td>50.000000</td>\n",
              "      <td>1422</td>\n",
              "    </tr>\n",
              "    <tr>\n",
              "      <th>76</th>\n",
              "      <td>E_ID7</td>\n",
              "      <td>Es4</td>\n",
              "      <td>/content/drive/MyDrive/PSUT/Graduation-Project...</td>\n",
              "      <td>/content/drive/MyDrive/PSUT/Graduation-Project...</td>\n",
              "      <td>44.333333</td>\n",
              "      <td>554</td>\n",
              "    </tr>\n",
              "    <tr>\n",
              "      <th>77</th>\n",
              "      <td>E_ID9</td>\n",
              "      <td>Es4</td>\n",
              "      <td>/content/drive/MyDrive/PSUT/Graduation-Project...</td>\n",
              "      <td>/content/drive/MyDrive/PSUT/Graduation-Project...</td>\n",
              "      <td>42.666667</td>\n",
              "      <td>430</td>\n",
              "    </tr>\n",
              "  </tbody>\n",
              "</table>\n",
              "<p>78 rows × 6 columns</p>\n",
              "</div>\n",
              "    <div class=\"colab-df-buttons\">\n",
              "\n",
              "  <div class=\"colab-df-container\">\n",
              "    <button class=\"colab-df-convert\" onclick=\"convertToInteractive('df-28a02f8d-d69d-41e3-88a7-b5a06a28596d')\"\n",
              "            title=\"Convert this dataframe to an interactive table.\"\n",
              "            style=\"display:none;\">\n",
              "\n",
              "  <svg xmlns=\"http://www.w3.org/2000/svg\" height=\"24px\" viewBox=\"0 -960 960 960\">\n",
              "    <path d=\"M120-120v-720h720v720H120Zm60-500h600v-160H180v160Zm220 220h160v-160H400v160Zm0 220h160v-160H400v160ZM180-400h160v-160H180v160Zm440 0h160v-160H620v160ZM180-180h160v-160H180v160Zm440 0h160v-160H620v160Z\"/>\n",
              "  </svg>\n",
              "    </button>\n",
              "\n",
              "  <style>\n",
              "    .colab-df-container {\n",
              "      display:flex;\n",
              "      gap: 12px;\n",
              "    }\n",
              "\n",
              "    .colab-df-convert {\n",
              "      background-color: #E8F0FE;\n",
              "      border: none;\n",
              "      border-radius: 50%;\n",
              "      cursor: pointer;\n",
              "      display: none;\n",
              "      fill: #1967D2;\n",
              "      height: 32px;\n",
              "      padding: 0 0 0 0;\n",
              "      width: 32px;\n",
              "    }\n",
              "\n",
              "    .colab-df-convert:hover {\n",
              "      background-color: #E2EBFA;\n",
              "      box-shadow: 0px 1px 2px rgba(60, 64, 67, 0.3), 0px 1px 3px 1px rgba(60, 64, 67, 0.15);\n",
              "      fill: #174EA6;\n",
              "    }\n",
              "\n",
              "    .colab-df-buttons div {\n",
              "      margin-bottom: 4px;\n",
              "    }\n",
              "\n",
              "    [theme=dark] .colab-df-convert {\n",
              "      background-color: #3B4455;\n",
              "      fill: #D2E3FC;\n",
              "    }\n",
              "\n",
              "    [theme=dark] .colab-df-convert:hover {\n",
              "      background-color: #434B5C;\n",
              "      box-shadow: 0px 1px 3px 1px rgba(0, 0, 0, 0.15);\n",
              "      filter: drop-shadow(0px 1px 2px rgba(0, 0, 0, 0.3));\n",
              "      fill: #FFFFFF;\n",
              "    }\n",
              "  </style>\n",
              "\n",
              "    <script>\n",
              "      const buttonEl =\n",
              "        document.querySelector('#df-28a02f8d-d69d-41e3-88a7-b5a06a28596d button.colab-df-convert');\n",
              "      buttonEl.style.display =\n",
              "        google.colab.kernel.accessAllowed ? 'block' : 'none';\n",
              "\n",
              "      async function convertToInteractive(key) {\n",
              "        const element = document.querySelector('#df-28a02f8d-d69d-41e3-88a7-b5a06a28596d');\n",
              "        const dataTable =\n",
              "          await google.colab.kernel.invokeFunction('convertToInteractive',\n",
              "                                                    [key], {});\n",
              "        if (!dataTable) return;\n",
              "\n",
              "        const docLinkHtml = 'Like what you see? Visit the ' +\n",
              "          '<a target=\"_blank\" href=https://colab.research.google.com/notebooks/data_table.ipynb>data table notebook</a>'\n",
              "          + ' to learn more about interactive tables.';\n",
              "        element.innerHTML = '';\n",
              "        dataTable['output_type'] = 'display_data';\n",
              "        await google.colab.output.renderOutput(dataTable, element);\n",
              "        const docLink = document.createElement('div');\n",
              "        docLink.innerHTML = docLinkHtml;\n",
              "        element.appendChild(docLink);\n",
              "      }\n",
              "    </script>\n",
              "  </div>\n",
              "\n",
              "\n",
              "<div id=\"df-72c4710c-dcba-4d08-b81e-63f5d436536f\">\n",
              "  <button class=\"colab-df-quickchart\" onclick=\"quickchart('df-72c4710c-dcba-4d08-b81e-63f5d436536f')\"\n",
              "            title=\"Suggest charts\"\n",
              "            style=\"display:none;\">\n",
              "\n",
              "<svg xmlns=\"http://www.w3.org/2000/svg\" height=\"24px\"viewBox=\"0 0 24 24\"\n",
              "     width=\"24px\">\n",
              "    <g>\n",
              "        <path d=\"M19 3H5c-1.1 0-2 .9-2 2v14c0 1.1.9 2 2 2h14c1.1 0 2-.9 2-2V5c0-1.1-.9-2-2-2zM9 17H7v-7h2v7zm4 0h-2V7h2v10zm4 0h-2v-4h2v4z\"/>\n",
              "    </g>\n",
              "</svg>\n",
              "  </button>\n",
              "\n",
              "<style>\n",
              "  .colab-df-quickchart {\n",
              "      --bg-color: #E8F0FE;\n",
              "      --fill-color: #1967D2;\n",
              "      --hover-bg-color: #E2EBFA;\n",
              "      --hover-fill-color: #174EA6;\n",
              "      --disabled-fill-color: #AAA;\n",
              "      --disabled-bg-color: #DDD;\n",
              "  }\n",
              "\n",
              "  [theme=dark] .colab-df-quickchart {\n",
              "      --bg-color: #3B4455;\n",
              "      --fill-color: #D2E3FC;\n",
              "      --hover-bg-color: #434B5C;\n",
              "      --hover-fill-color: #FFFFFF;\n",
              "      --disabled-bg-color: #3B4455;\n",
              "      --disabled-fill-color: #666;\n",
              "  }\n",
              "\n",
              "  .colab-df-quickchart {\n",
              "    background-color: var(--bg-color);\n",
              "    border: none;\n",
              "    border-radius: 50%;\n",
              "    cursor: pointer;\n",
              "    display: none;\n",
              "    fill: var(--fill-color);\n",
              "    height: 32px;\n",
              "    padding: 0;\n",
              "    width: 32px;\n",
              "  }\n",
              "\n",
              "  .colab-df-quickchart:hover {\n",
              "    background-color: var(--hover-bg-color);\n",
              "    box-shadow: 0 1px 2px rgba(60, 64, 67, 0.3), 0 1px 3px 1px rgba(60, 64, 67, 0.15);\n",
              "    fill: var(--button-hover-fill-color);\n",
              "  }\n",
              "\n",
              "  .colab-df-quickchart-complete:disabled,\n",
              "  .colab-df-quickchart-complete:disabled:hover {\n",
              "    background-color: var(--disabled-bg-color);\n",
              "    fill: var(--disabled-fill-color);\n",
              "    box-shadow: none;\n",
              "  }\n",
              "\n",
              "  .colab-df-spinner {\n",
              "    border: 2px solid var(--fill-color);\n",
              "    border-color: transparent;\n",
              "    border-bottom-color: var(--fill-color);\n",
              "    animation:\n",
              "      spin 1s steps(1) infinite;\n",
              "  }\n",
              "\n",
              "  @keyframes spin {\n",
              "    0% {\n",
              "      border-color: transparent;\n",
              "      border-bottom-color: var(--fill-color);\n",
              "      border-left-color: var(--fill-color);\n",
              "    }\n",
              "    20% {\n",
              "      border-color: transparent;\n",
              "      border-left-color: var(--fill-color);\n",
              "      border-top-color: var(--fill-color);\n",
              "    }\n",
              "    30% {\n",
              "      border-color: transparent;\n",
              "      border-left-color: var(--fill-color);\n",
              "      border-top-color: var(--fill-color);\n",
              "      border-right-color: var(--fill-color);\n",
              "    }\n",
              "    40% {\n",
              "      border-color: transparent;\n",
              "      border-right-color: var(--fill-color);\n",
              "      border-top-color: var(--fill-color);\n",
              "    }\n",
              "    60% {\n",
              "      border-color: transparent;\n",
              "      border-right-color: var(--fill-color);\n",
              "    }\n",
              "    80% {\n",
              "      border-color: transparent;\n",
              "      border-right-color: var(--fill-color);\n",
              "      border-bottom-color: var(--fill-color);\n",
              "    }\n",
              "    90% {\n",
              "      border-color: transparent;\n",
              "      border-bottom-color: var(--fill-color);\n",
              "    }\n",
              "  }\n",
              "</style>\n",
              "\n",
              "  <script>\n",
              "    async function quickchart(key) {\n",
              "      const quickchartButtonEl =\n",
              "        document.querySelector('#' + key + ' button');\n",
              "      quickchartButtonEl.disabled = true;  // To prevent multiple clicks.\n",
              "      quickchartButtonEl.classList.add('colab-df-spinner');\n",
              "      try {\n",
              "        const charts = await google.colab.kernel.invokeFunction(\n",
              "            'suggestCharts', [key], {});\n",
              "      } catch (error) {\n",
              "        console.error('Error during call to suggestCharts:', error);\n",
              "      }\n",
              "      quickchartButtonEl.classList.remove('colab-df-spinner');\n",
              "      quickchartButtonEl.classList.add('colab-df-quickchart-complete');\n",
              "    }\n",
              "    (() => {\n",
              "      let quickchartButtonEl =\n",
              "        document.querySelector('#df-72c4710c-dcba-4d08-b81e-63f5d436536f button');\n",
              "      quickchartButtonEl.style.display =\n",
              "        google.colab.kernel.accessAllowed ? 'block' : 'none';\n",
              "    })();\n",
              "  </script>\n",
              "</div>\n",
              "    </div>\n",
              "  </div>\n"
            ],
            "text/plain": [
              "        ID exercise                                              video  \\\n",
              "0   P_ID11      Es4  /content/drive/MyDrive/PSUT/Graduation-Project...   \n",
              "1   P_ID16      Es4  /content/drive/MyDrive/PSUT/Graduation-Project...   \n",
              "2   P_ID10      Es4  /content/drive/MyDrive/PSUT/Graduation-Project...   \n",
              "3    P_ID4      Es4  /content/drive/MyDrive/PSUT/Graduation-Project...   \n",
              "4    P_ID3      Es4                                                NaN   \n",
              "..     ...      ...                                                ...   \n",
              "73   E_ID4      Es4  /content/drive/MyDrive/PSUT/Graduation-Project...   \n",
              "74   E_ID6      Es4  /content/drive/MyDrive/PSUT/Graduation-Project...   \n",
              "75   E_ID1      Es4  /content/drive/MyDrive/PSUT/Graduation-Project...   \n",
              "76   E_ID7      Es4  /content/drive/MyDrive/PSUT/Graduation-Project...   \n",
              "77   E_ID9      Es4  /content/drive/MyDrive/PSUT/Graduation-Project...   \n",
              "\n",
              "                                      joint_positions  clinical_score  #frames  \n",
              "0   /content/drive/MyDrive/PSUT/Graduation-Project...       15.333333      363  \n",
              "1   /content/drive/MyDrive/PSUT/Graduation-Project...       30.000000      746  \n",
              "2   /content/drive/MyDrive/PSUT/Graduation-Project...       32.149872      563  \n",
              "3   /content/drive/MyDrive/PSUT/Graduation-Project...       14.000000      941  \n",
              "4                                                 NaN       -1.000000        0  \n",
              "..                                                ...             ...      ...  \n",
              "73  /content/drive/MyDrive/PSUT/Graduation-Project...       44.333333      538  \n",
              "74  /content/drive/MyDrive/PSUT/Graduation-Project...       42.666667      415  \n",
              "75  /content/drive/MyDrive/PSUT/Graduation-Project...       50.000000     1422  \n",
              "76  /content/drive/MyDrive/PSUT/Graduation-Project...       44.333333      554  \n",
              "77  /content/drive/MyDrive/PSUT/Graduation-Project...       42.666667      430  \n",
              "\n",
              "[78 rows x 6 columns]"
            ]
          },
          "execution_count": 6,
          "metadata": {},
          "output_type": "execute_result"
        }
      ],
      "source": [
        "df"
      ]
    },
    {
      "cell_type": "code",
      "execution_count": null,
      "metadata": {
        "id": "HL-VqavjeO6L"
      },
      "outputs": [],
      "source": [
        "def get_dataframe_cols():\n",
        "  KEYPOINT_DICT = {\n",
        "    'nose': 0,\n",
        "    'left_eye': 1,\n",
        "    'right_eye': 2,\n",
        "    'left_ear': 3,\n",
        "    'right_ear': 4,\n",
        "    'left_shoulder': 5,\n",
        "    'right_shoulder': 6,\n",
        "    'left_elbow': 7,\n",
        "    'right_elbow': 8,\n",
        "    'left_wrist': 9,\n",
        "    'right_wrist': 10,\n",
        "    'left_hip': 11,\n",
        "    'right_hip': 12,\n",
        "    'left_knee': 13,\n",
        "    'right_knee': 14,\n",
        "    'left_ankle': 15,\n",
        "    'right_ankle': 16\n",
        "  }\n",
        "  df_cols = []\n",
        "  for keypoint_name in KEYPOINT_DICT:\n",
        "    df_cols.append(f\"{keypoint_name}_y\")\n",
        "    df_cols.append(f\"{keypoint_name}_x\")\n",
        "    df_cols.append(f\"{keypoint_name}_confidence\")\n",
        "  return df_cols"
      ]
    },
    {
      "cell_type": "code",
      "execution_count": null,
      "metadata": {
        "colab": {
          "base_uri": "https://localhost:8080/"
        },
        "id": "NFcjrZEEeUOe",
        "outputId": "db86612d-eadb-47e7-c21e-b85277ac3133"
      },
      "outputs": [
        {
          "name": "stdout",
          "output_type": "stream",
          "text": [
            "Dropping 15 columns.\n"
          ]
        }
      ],
      "source": [
        "all_cols = get_dataframe_cols()\n",
        "face_cols = all_cols[:15]\n",
        "cols_drop = face_cols\n",
        "print(f\"Dropping {len(cols_drop)} columns.\")"
      ]
    },
    {
      "cell_type": "code",
      "execution_count": null,
      "metadata": {
        "colab": {
          "base_uri": "https://localhost:8080/"
        },
        "id": "DiZas7ht2Zch",
        "outputId": "84f61ee9-6c62-4082-8923-f4e9b7c5e0ab"
      },
      "outputs": [
        {
          "name": "stdout",
          "output_type": "stream",
          "text": [
            "Maximum video length: 1988\n"
          ]
        }
      ],
      "source": [
        "EXERCISE = \"Es4\"\n",
        "EXERCISE_VIDO_MAX_LEN = df[df['exercise'] == EXERCISE]['#frames'].max()\n",
        "print(f\"Maximum video length: {EXERCISE_VIDO_MAX_LEN}\")\n",
        "\n",
        "def prepare_data(df, exercise_video_max_len, data_type):\n",
        "  data = []\n",
        "  labels = []\n",
        "  padding_masks = []\n",
        "\n",
        "  for index, row in df.iterrows():\n",
        "    joint_positions_path = row['joint_positions']\n",
        "    if joint_positions_path is np.NAN:\n",
        "      continue\n",
        "    clinical_score = row['clinical_score']\n",
        "    video_length = row['#frames']\n",
        "\n",
        "    joint_positions_data = pd.read_csv(joint_positions_path)\n",
        "    joint_positions_data = joint_positions_data.drop(cols_drop, axis=1)\n",
        "    joint_positions_data = joint_positions_data.to_numpy()\n",
        "\n",
        "    padding_length = exercise_video_max_len - video_length\n",
        "    padding_mask = np.zeros((video_length + padding_length))\n",
        "    padding_mask[-padding_length:] = 1\n",
        "\n",
        "    joint_positions_data_padded = np.pad(joint_positions_data, ((0, padding_length), (0, 0)), mode='constant', constant_values=0)\n",
        "\n",
        "    data.append(joint_positions_data_padded)\n",
        "    labels.append(clinical_score)\n",
        "    padding_masks.append(padding_mask)\n",
        "\n",
        "  data = np.array(data)\n",
        "  labels = np.array(labels)\n",
        "  padding_masks = np.array(padding_masks)\n",
        "\n",
        "  data = np.nan_to_num(data)\n",
        "  labels = np.nan_to_num(labels)\n",
        "\n",
        "  print(f\"{data_type} Data Shape:\", data.shape)\n",
        "  print(f\"{data_type} Labels Shape:\", labels.shape)\n",
        "  print(f\"{data_type} Padding Masks Shape:\", padding_masks.shape)\n",
        "\n",
        "  return (data, padding_masks), labels"
      ]
    },
    {
      "cell_type": "code",
      "execution_count": null,
      "metadata": {
        "colab": {
          "base_uri": "https://localhost:8080/"
        },
        "id": "8Q18qUHS4cqL",
        "outputId": "c0351d59-ea12-4911-a404-bc6a89969436"
      },
      "outputs": [
        {
          "name": "stdout",
          "output_type": "stream",
          "text": [
            "Train Data Shape: (57, 1988, 36)\n",
            "Train Labels Shape: (57,)\n",
            "Train Padding Masks Shape: (57, 1988)\n",
            "Test Data Shape: (15, 1988, 36)\n",
            "Test Labels Shape: (15,)\n",
            "Test Padding Masks Shape: (15, 1988)\n"
          ]
        }
      ],
      "source": [
        "train, test = train_test_split(df, test_size=0.2, random_state=0)\n",
        "train_data, train_labels = prepare_data(train, EXERCISE_VIDO_MAX_LEN, \"Train\")\n",
        "test_data, test_labels = prepare_data(test, EXERCISE_VIDO_MAX_LEN, \"Test\")"
      ]
    },
    {
      "cell_type": "markdown",
      "metadata": {
        "id": "1OWozp_iJFBF"
      },
      "source": [
        "# Build Model"
      ]
    },
    {
      "cell_type": "code",
      "execution_count": null,
      "metadata": {
        "id": "lwnj4-lh8tiu"
      },
      "outputs": [],
      "source": [
        "import tensorflow as tf\n",
        "from tensorflow import keras\n",
        "import keras_tuner"
      ]
    },
    {
      "cell_type": "code",
      "execution_count": null,
      "metadata": {
        "id": "qq4OmKRRvr90"
      },
      "outputs": [],
      "source": [
        "def build_model(hp):\n",
        "  num_windows=4\n",
        "  window_size=497\n",
        "  num_heads=hp.Int(\"num_heads\", 1, 5)\n",
        "  d_model=hp.Int(\"d_model\", 5, 20)\n",
        "\n",
        "  inputs = tf.keras.Input(shape=(1988, 36), name='orignal_data')\n",
        "  masks = tf.keras.Input(shape=(1988), name='padding_masks')\n",
        "\n",
        "  windows = tf.split(inputs, num_windows, axis=1)\n",
        "  windows_masks = tf.split(masks, num_windows, axis=1)\n",
        "\n",
        "  embedding_layers = []\n",
        "  for i in range(hp.Int(\"num_embedding_layers\", 1, 4)):\n",
        "    embedding_layer = tf.keras.layers.Dense(\n",
        "                                units=hp.Int(\"units\", min_value=5, max_value=20, step=1),\n",
        "                                activation=\"relu\",\n",
        "                            )\n",
        "    embedding_layers.append(embedding_layer)\n",
        "\n",
        "  final_embedding_layer = tf.keras.layers.Dense(units=d_model, activation=\"relu\")\n",
        "  embedding_layers.append(final_embedding_layer)\n",
        "\n",
        "  embeddings = []\n",
        "  for window in windows:\n",
        "    for i, embedding_layer in enumerate(embedding_layers):\n",
        "      embedding = embedding_layer(window)\n",
        "    if hp.Boolean(f\"dropout_embedding{i}\"):\n",
        "      embedding_layer = tf.keras.layers.Dropout(\n",
        "                        rate=hp.Float(f\"dropout_embedding{i}_rate\",\n",
        "                        min_value=0.20,\n",
        "                        max_value=0.50,\n",
        "                        sampling=\"log\"))(embedding)\n",
        "    embeddings.append(embedding)\n",
        "\n",
        "  positional_embedding_layer = tf.keras.layers.Embedding(input_dim=window_size, output_dim=d_model)\n",
        "  positional_embeddings = []\n",
        "  for i in range(num_windows):\n",
        "      positional_embedding = positional_embedding_layer(tf.range(window_size))\n",
        "      positional_embeddings.append(positional_embedding)\n",
        "\n",
        "  embeddings_all = [embedding + positional_embedding for embedding, positional_embedding in zip(embeddings, positional_embeddings)]\n",
        "\n",
        "  transformer_encoder_layer = keras_nlp.layers.TransformerEncoder(intermediate_dim=d_model, num_heads=num_heads)\n",
        "  encoded = [transformer_encoder_layer(window_embd, window_mask) for window_embd, window_mask in zip(embeddings, windows_masks)]\n",
        "\n",
        "  concat_output = tf.concat(encoded, axis=1)\n",
        "  flatten_output = tf.keras.layers.Flatten()(concat_output)\n",
        "\n",
        "  if hp.Boolean(\"dropout_flatten\"):\n",
        "    flatten_output = tf.keras.layers.Dropout(rate=hp.Float(\"dropout_flatten_rate\", min_value=0.20, max_value=0.50, sampling=\"log\"))(flatten_output)\n",
        "\n",
        "  dense_output = tf.keras.layers.Dense(\n",
        "                              units=hp.Int(\"units\", min_value=8, max_value=9940, step=8),\n",
        "                              activation=\"relu\",\n",
        "                          )(flatten_output)\n",
        "\n",
        "  for i in range(hp.Int(\"num_dense_layers1\", 1, 5)):\n",
        "    dense_output = tf.keras.layers.Dense(\n",
        "                                units=hp.Int(\"units\", min_value=32, max_value=512, step=32),\n",
        "                                activation=\"relu\",\n",
        "                            )(dense_output)\n",
        "    if hp.Boolean(f\"dropout_dense_layers1_{i}\"):\n",
        "      dense_output = tf.keras.layers.Dropout(rate=hp.Float(f\"dropout_dense_layers1_{i}_rate\", min_value=0.20, max_value=0.50, sampling=\"log\"))(dense_output)\n",
        "\n",
        "  for i in range(hp.Int(\"num_dense_layers2\", 1, 5)):\n",
        "    dense_output = tf.keras.layers.Dense(\n",
        "                                units=hp.Int(\"units\", min_value=32, max_value=512, step=32),\n",
        "                                activation=\"relu\",\n",
        "                            )(dense_output)\n",
        "    if hp.Boolean(f\"dropout_dense_layers2_{i+1}\"):\n",
        "      dense_output = tf.keras.layers.Dropout(rate=hp.Float(f\"dropout_dense_layers2_{i+1}_rate\", min_value=0.20, max_value=0.50, sampling=\"log\"))(dense_output)\n",
        "\n",
        "\n",
        "  output = tf.keras.layers.Dense(1)(dense_output)\n",
        "\n",
        "  model = tf.keras.Model(inputs=[inputs, masks],\n",
        "                       outputs=output,\n",
        "                       name='transformer_model')\n",
        "\n",
        "  learning_rate = hp.Float(\"lr\", min_value=1e-4, max_value=1e-2, sampling=\"log\")\n",
        "  model.compile(\n",
        "      optimizer=keras.optimizers.Adam(learning_rate=learning_rate),\n",
        "      loss='mse',\n",
        "      metrics=['mae']\n",
        "      )\n",
        "\n",
        "  return model"
      ]
    },
    {
      "cell_type": "code",
      "execution_count": null,
      "metadata": {
        "id": "W-y4z1b6zmsz"
      },
      "outputs": [],
      "source": [
        "tuner = keras_tuner.BayesianOptimization(\n",
        "    hypermodel=build_model,\n",
        "    objective=[\"mae\",\"val_mae\"],\n",
        "    max_trials=40,\n",
        "    overwrite=True,\n",
        "    directory=\"/content/drive/MyDrive/PSUT/Graduation-Project2/code/models/hyperparameter-tuning\",\n",
        "    project_name=\"/content/drive/MyDrive/PSUT/Graduation-Project2/code/models/hyperparameter-tuning/Experiment2\",\n",
        ")"
      ]
    },
    {
      "cell_type": "code",
      "execution_count": null,
      "metadata": {
        "id": "7aYGS1uiQw4-"
      },
      "outputs": [],
      "source": [
        "tuner = keras_tuner.RandomSearch(\n",
        "    hypermodel=build_model,\n",
        "    objective=[\"mae\",\"val_mae\"],\n",
        "    max_trials=50,\n",
        "    executions_per_trial=1,\n",
        "    overwrite=True,\n",
        "    directory=\"/content/drive/MyDrive/PSUT/Graduation-Project2/code/models/hyperparameter-tuning\",\n",
        "    project_name=\"/content/drive/MyDrive/PSUT/Graduation-Project2/code/models/hyperparameter-tuning/Experiment3\"\n",
        ")"
      ]
    },
    {
      "cell_type": "code",
      "execution_count": null,
      "metadata": {
        "colab": {
          "base_uri": "https://localhost:8080/"
        },
        "id": "u2BzuyEGE44k",
        "outputId": "91b82270-1fbc-44ba-d362-ed038a6d1cb5"
      },
      "outputs": [
        {
          "name": "stdout",
          "output_type": "stream",
          "text": [
            "Search space summary\n",
            "Default search space size: 11\n",
            "num_heads (Int)\n",
            "{'default': None, 'conditions': [], 'min_value': 1, 'max_value': 5, 'step': 1, 'sampling': 'linear'}\n",
            "d_model (Int)\n",
            "{'default': None, 'conditions': [], 'min_value': 5, 'max_value': 20, 'step': 1, 'sampling': 'linear'}\n",
            "num_embedding_layers (Int)\n",
            "{'default': None, 'conditions': [], 'min_value': 1, 'max_value': 4, 'step': 1, 'sampling': 'linear'}\n",
            "units (Int)\n",
            "{'default': None, 'conditions': [], 'min_value': 5, 'max_value': 20, 'step': 1, 'sampling': 'linear'}\n",
            "dropout_embedding1 (Boolean)\n",
            "{'default': False, 'conditions': []}\n",
            "dropout_flatten (Boolean)\n",
            "{'default': False, 'conditions': []}\n",
            "num_dense_layers1 (Int)\n",
            "{'default': None, 'conditions': [], 'min_value': 1, 'max_value': 5, 'step': 1, 'sampling': 'linear'}\n",
            "dropout_dense_layers1_0 (Boolean)\n",
            "{'default': False, 'conditions': []}\n",
            "num_dense_layers2 (Int)\n",
            "{'default': None, 'conditions': [], 'min_value': 1, 'max_value': 5, 'step': 1, 'sampling': 'linear'}\n",
            "dropout_dense_layers2_1 (Boolean)\n",
            "{'default': False, 'conditions': []}\n",
            "lr (Float)\n",
            "{'default': 0.0001, 'conditions': [], 'min_value': 0.0001, 'max_value': 0.01, 'step': None, 'sampling': 'log'}\n"
          ]
        }
      ],
      "source": [
        "tuner.search_space_summary()"
      ]
    },
    {
      "cell_type": "code",
      "execution_count": null,
      "metadata": {
        "colab": {
          "background_save": true,
          "base_uri": "https://localhost:8080/"
        },
        "id": "bYzs85k3F79y",
        "outputId": "e2ba0b64-1930-4d1f-e70e-150e3e5126bf"
      },
      "outputs": [
        {
          "name": "stdout",
          "output_type": "stream",
          "text": [
            "Trial 50 Complete [00h 02m 32s]\n",
            "multi_objective: 41.89490509033203\n",
            "\n",
            "Best multi_objective So Far: 16.85331153869629\n",
            "Total elapsed time: 01h 50m 38s\n"
          ]
        }
      ],
      "source": [
        "tuner.search([train_data[0], train_data[1]], train_labels, epochs=20, validation_data=([test_data[0], test_data[1]], test_labels))"
      ]
    },
    {
      "cell_type": "code",
      "execution_count": null,
      "metadata": {
        "colab": {
          "base_uri": "https://localhost:8080/"
        },
        "id": "Tm59ZTlPH7P6",
        "outputId": "fd304f7d-e1ff-4185-cf6d-4b0d565c1f09"
      },
      "outputs": [
        {
          "name": "stdout",
          "output_type": "stream",
          "text": [
            "Results summary\n",
            "Results in /content/drive/MyDrive/PSUT/Graduation-Project2/code/models/hyperparameter-tuning\n",
            "Showing 10 best trials\n",
            "Objective(name=\"val_mae\", direction=\"min\")\n",
            "\n",
            "Trial 0 summary\n",
            "Hyperparameters:\n",
            "num_heads: 1\n",
            "d_model: 8\n",
            "num_embedding_layers: 4\n",
            "units: 15\n",
            "dropout_embedding1: True\n",
            "dropout_flatten: True\n",
            "num_dense_layers1: 2\n",
            "dropout_dense_layers1_0: False\n",
            "num_dense_layers2: 1\n",
            "dropout_dense_layers2_1: False\n",
            "lr: 0.0037849837509274843\n",
            "dropout_embedding4: False\n",
            "dropout_flatten_rate: 0.2\n",
            "dropout_dense_layers1_1: False\n",
            "Score: 6.889535427093506\n",
            "\n",
            "Trial 1 summary\n",
            "Hyperparameters:\n",
            "num_heads: 1\n",
            "d_model: 20\n",
            "num_embedding_layers: 3\n",
            "units: 11\n",
            "dropout_embedding1: False\n",
            "dropout_flatten: False\n",
            "num_dense_layers1: 2\n",
            "dropout_dense_layers1_0: True\n",
            "num_dense_layers2: 2\n",
            "dropout_dense_layers2_1: False\n",
            "lr: 0.0001157452518760688\n",
            "dropout_embedding4: True\n",
            "dropout_flatten_rate: 0.24555001107823002\n",
            "dropout_dense_layers1_1: False\n",
            "dropout_embedding3: False\n",
            "dropout_dense_layers1_0_rate: 0.2\n",
            "dropout_dense_layers2_2: False\n",
            "Score: 35.32271194458008\n",
            "\n",
            "Trial 2 summary\n",
            "Hyperparameters:\n",
            "num_heads: 3\n",
            "d_model: 7\n",
            "num_embedding_layers: 4\n",
            "units: 19\n",
            "dropout_embedding1: True\n",
            "dropout_flatten: False\n",
            "num_dense_layers1: 1\n",
            "dropout_dense_layers1_0: False\n",
            "num_dense_layers2: 5\n",
            "dropout_dense_layers2_1: False\n",
            "lr: 0.0005367136238614067\n",
            "dropout_embedding4: False\n",
            "dropout_flatten_rate: 0.46602584780102563\n",
            "dropout_dense_layers1_1: False\n",
            "dropout_embedding3: True\n",
            "dropout_dense_layers1_0_rate: 0.25306406740177906\n",
            "dropout_dense_layers2_2: False\n",
            "dropout_dense_layers2_3: False\n",
            "dropout_dense_layers2_4: False\n",
            "dropout_dense_layers2_5: False\n",
            "Score: 39.802467346191406\n"
          ]
        }
      ],
      "source": [
        "tuner.results_summary()"
      ]
    },
    {
      "cell_type": "code",
      "execution_count": null,
      "metadata": {
        "id": "xo0aWplIQ22v"
      },
      "outputs": [],
      "source": []
    }
  ],
  "metadata": {
    "colab": {
      "provenance": []
    },
    "kernelspec": {
      "display_name": "Python 3",
      "name": "python3"
    },
    "language_info": {
      "name": "python"
    }
  },
  "nbformat": 4,
  "nbformat_minor": 0
}