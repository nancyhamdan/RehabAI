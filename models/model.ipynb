{
  "nbformat": 4,
  "nbformat_minor": 0,
  "metadata": {
    "colab": {
      "provenance": [],
      "toc_visible": true
    },
    "kernelspec": {
      "name": "python3",
      "display_name": "Python 3"
    },
    "language_info": {
      "name": "python"
    }
  },
  "cells": [
    {
      "cell_type": "code",
      "execution_count": null,
      "metadata": {
        "id": "-DVh6OXTQ0HD"
      },
      "outputs": [],
      "source": [
        "import pandas as pd\n",
        "import numpy as np\n",
        "import os\n",
        "\n",
        "from sklearn.model_selection import train_test_split"
      ]
    },
    {
      "cell_type": "markdown",
      "source": [
        "# Load and Prepare Data"
      ],
      "metadata": {
        "id": "bNf-wMRaJBzM"
      }
    },
    {
      "cell_type": "code",
      "source": [
        "df = pd.read_csv(\"/content/drive/MyDrive/PSUT/Graduation-Project2/data/KiMoRe_final/KiMoRe_data.csv\")\n",
        "df = df.drop(\"Unnamed: 0\", axis=1)\n",
        "df[\"video\"] = df[\"video\"].str.replace(\"/content/drive/MyDrive/\", \"/content/drive/MyDrive/PSUT/Graduation-Project2/\")\n",
        "df[\"joint_positions\"] = df[\"joint_positions\"].str.replace(\"/content/drive/MyDrive/\", \"/content/drive/MyDrive/PSUT/Graduation-Project2/\")"
      ],
      "metadata": {
        "id": "WrdCT2-YHycr"
      },
      "execution_count": null,
      "outputs": []
    },
    {
      "cell_type": "code",
      "source": [
        "data = []\n",
        "labels = []\n",
        "\n",
        "max_video_length = 0\n",
        "\n",
        "EXERCISE = \"Es4\"\n",
        "for index, row in df.iterrows():\n",
        "    exercise = row['exercise']\n",
        "    if exercise == EXERCISE:\n",
        "        video_path = row['video']\n",
        "        joint_positions_path = row['joint_positions']\n",
        "        clinical_score = row['clinical_score']\n",
        "\n",
        "        joint_positions_data = np.loadtxt(joint_positions_path, delimiter=',', skiprows=1)\n",
        "        video_length = joint_positions_data.shape[0]\n",
        "\n",
        "        if video_length > max_video_length:\n",
        "            max_video_length = video_length\n",
        "\n",
        "        data.append(joint_positions_data)\n",
        "        labels.append(clinical_score)\n",
        "\n",
        "for i in range(len(data)):\n",
        "    data[i] = np.pad(data[i], ((0, max_video_length - data[i].shape[0]), (0, 0)), mode='constant', constant_values=0)\n",
        "\n",
        "data = np.array(data)\n",
        "labels = np.array(labels)\n",
        "\n",
        "print(\"Data Shape:\", data.shape)\n",
        "print(\"Labels Shape:\", labels.shape)"
      ],
      "metadata": {
        "colab": {
          "base_uri": "https://localhost:8080/"
        },
        "id": "DDB5SZ3itZ0i",
        "outputId": "67721ec7-cf30-4fe5-940f-26cc7091aded"
      },
      "execution_count": null,
      "outputs": [
        {
          "output_type": "stream",
          "name": "stdout",
          "text": [
            "Data Shape: (78, 1988, 165)\n",
            "Labels Shape: (78,)\n"
          ]
        }
      ]
    },
    {
      "cell_type": "code",
      "source": [
        "data = np.nan_to_num(data)\n",
        "labels = np.nan_to_num(labels)"
      ],
      "metadata": {
        "id": "S0779pdFL6bP"
      },
      "execution_count": null,
      "outputs": []
    },
    {
      "cell_type": "code",
      "source": [
        "X_train, X_test, y_train, y_test = train_test_split(data, labels, test_size=0.2, random_state=0)\n",
        "print(f\"X train: {X_train.shape}, y train: {y_train.shape}\")\n",
        "print(f\"X test: {X_test.shape}, y test: {y_test.shape}\")"
      ],
      "metadata": {
        "colab": {
          "base_uri": "https://localhost:8080/"
        },
        "id": "yWSh25uRrxTy",
        "outputId": "83902f72-cf89-4308-8227-6f018f2400b3"
      },
      "execution_count": null,
      "outputs": [
        {
          "output_type": "stream",
          "name": "stdout",
          "text": [
            "X train: (62, 1988, 165), y train: (62,)\n",
            "X test: (16, 1988, 165), y test: (16,)\n"
          ]
        }
      ]
    },
    {
      "cell_type": "markdown",
      "source": [
        "### Testing temporal windows"
      ],
      "metadata": {
        "id": "llw8kVZF8zSk"
      }
    },
    {
      "cell_type": "code",
      "source": [
        "N = 4\n",
        "temporal_windows_data = np.array_split(data, N, axis=1)\n",
        "temporal_windows_labels = np.array_split(labels, N)"
      ],
      "metadata": {
        "id": "pvailsYHtaWo"
      },
      "execution_count": null,
      "outputs": []
    },
    {
      "cell_type": "code",
      "source": [
        "for window in temporal_windows_data:\n",
        "  print(window.shape)"
      ],
      "metadata": {
        "colab": {
          "base_uri": "https://localhost:8080/"
        },
        "id": "akUECLRetai4",
        "outputId": "8ca4a66f-b3e3-411d-df48-9399c0375f8f"
      },
      "execution_count": null,
      "outputs": [
        {
          "output_type": "stream",
          "name": "stdout",
          "text": [
            "(78, 497, 165)\n",
            "(78, 497, 165)\n",
            "(78, 497, 165)\n",
            "(78, 497, 165)\n"
          ]
        }
      ]
    },
    {
      "cell_type": "markdown",
      "source": [
        "# Build Model"
      ],
      "metadata": {
        "id": "1OWozp_iJFBF"
      }
    },
    {
      "cell_type": "code",
      "source": [
        "import tensorflow as tf\n",
        "from tensorflow.keras.layers import MultiHeadAttention"
      ],
      "metadata": {
        "id": "lwnj4-lh8tiu"
      },
      "execution_count": null,
      "outputs": []
    },
    {
      "cell_type": "code",
      "source": [
        "class TransformerModel(tf.keras.Model):\n",
        "    def __init__(self, num_joints, num_windows, window_size, num_heads, d_model, dense_units):\n",
        "        super(TransformerModel, self).__init__()\n",
        "        self.num_joints = num_joints\n",
        "        self.num_windows = num_windows\n",
        "        self.window_size = window_size\n",
        "        self.num_heads = num_heads\n",
        "        self.d_model = d_model\n",
        "\n",
        "        self.embedding = tf.keras.layers.Dense(d_model, activation='relu')\n",
        "\n",
        "        self.positional_embedding = tf.keras.layers.Embedding(input_dim=window_size, output_dim=d_model)\n",
        "\n",
        "        self.transformer_encoder = MultiHeadAttention(num_heads=num_heads, key_dim=d_model)\n",
        "\n",
        "\n",
        "        self.dense1 = tf.keras.layers.Dense(dense_units, activation='relu')\n",
        "        self.dense2 = tf.keras.layers.Dense(1)\n",
        "\n",
        "    def call(self, inputs):\n",
        "        windows = tf.split(inputs, self.num_windows, axis=1)\n",
        "\n",
        "        embeddings = []\n",
        "        for window in windows:\n",
        "            embedding = self.embedding(window)\n",
        "            embeddings.append(embedding)\n",
        "\n",
        "        positional_embeddings = []\n",
        "        for i in range(self.num_windows):\n",
        "            positional_embedding = self.positional_embedding(tf.range(self.window_size))\n",
        "            positional_embeddings.append(positional_embedding)\n",
        "\n",
        "        embeddings = [embedding + positional_embedding for embedding, positional_embedding in zip(embeddings, positional_embeddings)]\n",
        "\n",
        "        encoded = [self.transformer_encoder(window_embd, window_embd) for window_embd in embeddings]\n",
        "\n",
        "        flatten_output = tf.concat(encoded, axis=1)\n",
        "\n",
        "        dense_output = self.dense1(flatten_output)\n",
        "        output = self.dense2(dense_output)\n",
        "\n",
        "        return output"
      ],
      "metadata": {
        "id": "k9Ygecy-L0PO"
      },
      "execution_count": null,
      "outputs": []
    },
    {
      "cell_type": "code",
      "source": [
        "model = TransformerModel(num_joints=165, num_windows=4, window_size=497, num_heads=4, d_model=128, dense_units=64)\n",
        "model.compile(optimizer='adam', loss='mse', metrics=['mae'])"
      ],
      "metadata": {
        "id": "1Dmg_TkWORMd"
      },
      "execution_count": null,
      "outputs": []
    },
    {
      "cell_type": "code",
      "source": [
        "history = model.fit(X_train, y_train, epochs=100, validation_data=(X_test, y_test))"
      ],
      "metadata": {
        "colab": {
          "base_uri": "https://localhost:8080/"
        },
        "id": "UjLeyf_vL7Zl",
        "outputId": "b8191842-d8fa-4fcf-adca-119a0d58c3c1"
      },
      "execution_count": null,
      "outputs": [
        {
          "output_type": "stream",
          "name": "stdout",
          "text": [
            "Epoch 1/100\n",
            "2/2 [==============================] - 19s 9s/step - loss: 1260.4056 - mae: 32.6133 - val_loss: 938.1146 - val_mae: 28.4429\n",
            "Epoch 2/100\n",
            "2/2 [==============================] - 13s 7s/step - loss: 1177.8110 - mae: 31.5048 - val_loss: 845.3973 - val_mae: 26.8028\n",
            "Epoch 3/100\n",
            "2/2 [==============================] - 14s 8s/step - loss: 1034.9181 - mae: 29.3947 - val_loss: 696.9190 - val_mae: 23.2842\n",
            "Epoch 4/100\n",
            "2/2 [==============================] - 14s 8s/step - loss: 818.2834 - mae: 24.7462 - val_loss: 657.7704 - val_mae: 22.0715\n",
            "Epoch 5/100\n",
            "2/2 [==============================] - 14s 7s/step - loss: 765.2758 - mae: 23.2448 - val_loss: 751.1486 - val_mae: 24.6348\n",
            "Epoch 6/100\n",
            "2/2 [==============================] - 13s 7s/step - loss: 807.6406 - mae: 24.2066 - val_loss: 640.4249 - val_mae: 21.8891\n",
            "Epoch 7/100\n",
            "2/2 [==============================] - 14s 8s/step - loss: 713.6655 - mae: 22.1518 - val_loss: 590.0151 - val_mae: 20.6651\n",
            "Epoch 8/100\n",
            "2/2 [==============================] - 14s 8s/step - loss: 721.3338 - mae: 22.6398 - val_loss: 590.7316 - val_mae: 20.7790\n",
            "Epoch 9/100\n",
            "2/2 [==============================] - 13s 7s/step - loss: 720.0253 - mae: 22.9313 - val_loss: 574.1478 - val_mae: 20.4770\n",
            "Epoch 10/100\n",
            "2/2 [==============================] - 12s 7s/step - loss: 697.2457 - mae: 22.4840 - val_loss: 539.0452 - val_mae: 19.7230\n",
            "Epoch 11/100\n",
            "2/2 [==============================] - 13s 7s/step - loss: 633.7949 - mae: 20.9756 - val_loss: 524.7682 - val_mae: 19.4929\n",
            "Epoch 12/100\n",
            "2/2 [==============================] - 13s 6s/step - loss: 614.7206 - mae: 20.4817 - val_loss: 544.1755 - val_mae: 20.2609\n",
            "Epoch 13/100\n",
            "2/2 [==============================] - 13s 6s/step - loss: 620.9385 - mae: 20.5966 - val_loss: 501.7072 - val_mae: 19.2514\n",
            "Epoch 14/100\n",
            "2/2 [==============================] - 13s 6s/step - loss: 574.5110 - mae: 19.7939 - val_loss: 441.2204 - val_mae: 17.7718\n",
            "Epoch 15/100\n",
            "2/2 [==============================] - 13s 6s/step - loss: 532.4977 - mae: 19.2152 - val_loss: 408.5028 - val_mae: 17.0609\n",
            "Epoch 16/100\n",
            "2/2 [==============================] - 13s 6s/step - loss: 511.0213 - mae: 18.9324 - val_loss: 375.9615 - val_mae: 16.3448\n",
            "Epoch 17/100\n",
            "2/2 [==============================] - 13s 6s/step - loss: 471.5146 - mae: 18.2055 - val_loss: 338.7825 - val_mae: 15.4425\n",
            "Epoch 18/100\n",
            "2/2 [==============================] - 13s 6s/step - loss: 431.3152 - mae: 17.3227 - val_loss: 312.7567 - val_mae: 14.7520\n",
            "Epoch 19/100\n",
            "2/2 [==============================] - 13s 7s/step - loss: 397.1103 - mae: 16.4434 - val_loss: 287.8299 - val_mae: 13.8892\n",
            "Epoch 20/100\n",
            "2/2 [==============================] - 14s 7s/step - loss: 355.4218 - mae: 15.4745 - val_loss: 235.1194 - val_mae: 12.4901\n",
            "Epoch 21/100\n",
            "2/2 [==============================] - 13s 7s/step - loss: 304.5877 - mae: 14.4212 - val_loss: 186.5712 - val_mae: 11.1147\n",
            "Epoch 22/100\n",
            "2/2 [==============================] - 13s 7s/step - loss: 262.5598 - mae: 13.2630 - val_loss: 158.3051 - val_mae: 10.0690\n",
            "Epoch 23/100\n",
            "2/2 [==============================] - 13s 7s/step - loss: 234.9853 - mae: 12.4775 - val_loss: 146.5175 - val_mae: 9.5934\n",
            "Epoch 24/100\n",
            "2/2 [==============================] - 13s 7s/step - loss: 217.9764 - mae: 11.8280 - val_loss: 161.0628 - val_mae: 9.8993\n",
            "Epoch 25/100\n",
            "2/2 [==============================] - 13s 7s/step - loss: 212.9482 - mae: 11.4648 - val_loss: 184.0696 - val_mae: 10.4736\n",
            "Epoch 26/100\n",
            "2/2 [==============================] - 13s 7s/step - loss: 224.3395 - mae: 11.5379 - val_loss: 197.5720 - val_mae: 10.7856\n",
            "Epoch 27/100\n",
            "2/2 [==============================] - 14s 8s/step - loss: 228.7794 - mae: 11.6451 - val_loss: 187.5513 - val_mae: 10.5499\n",
            "Epoch 28/100\n",
            "2/2 [==============================] - 14s 8s/step - loss: 226.4776 - mae: 11.7475 - val_loss: 172.3666 - val_mae: 10.2348\n",
            "Epoch 29/100\n",
            "2/2 [==============================] - 14s 8s/step - loss: 234.9971 - mae: 12.1955 - val_loss: 161.8770 - val_mae: 9.9430\n",
            "Epoch 30/100\n",
            "2/2 [==============================] - 13s 7s/step - loss: 231.2549 - mae: 12.2475 - val_loss: 157.9411 - val_mae: 9.8312\n",
            "Epoch 31/100\n",
            "2/2 [==============================] - 14s 8s/step - loss: 221.9062 - mae: 11.9319 - val_loss: 162.0787 - val_mae: 9.9109\n",
            "Epoch 32/100\n",
            "2/2 [==============================] - 14s 8s/step - loss: 215.0692 - mae: 11.5963 - val_loss: 168.3822 - val_mae: 10.0953\n",
            "Epoch 33/100\n",
            "2/2 [==============================] - 14s 8s/step - loss: 214.6171 - mae: 11.4852 - val_loss: 170.0664 - val_mae: 10.1051\n",
            "Epoch 34/100\n",
            "2/2 [==============================] - 13s 7s/step - loss: 218.7543 - mae: 11.5241 - val_loss: 169.8548 - val_mae: 10.0604\n",
            "Epoch 35/100\n",
            "2/2 [==============================] - 14s 7s/step - loss: 213.9049 - mae: 11.4671 - val_loss: 155.3855 - val_mae: 9.7951\n",
            "Epoch 36/100\n",
            "2/2 [==============================] - 13s 7s/step - loss: 211.5726 - mae: 11.4740 - val_loss: 147.3880 - val_mae: 9.6350\n",
            "Epoch 37/100\n",
            "2/2 [==============================] - 13s 7s/step - loss: 213.7676 - mae: 11.6760 - val_loss: 144.6769 - val_mae: 9.5561\n",
            "Epoch 38/100\n",
            "2/2 [==============================] - 13s 6s/step - loss: 213.8493 - mae: 11.6977 - val_loss: 146.3347 - val_mae: 9.6046\n",
            "Epoch 39/100\n",
            "2/2 [==============================] - 13s 6s/step - loss: 213.5171 - mae: 11.6474 - val_loss: 152.3139 - val_mae: 9.7359\n",
            "Epoch 40/100\n",
            "2/2 [==============================] - 13s 6s/step - loss: 211.8278 - mae: 11.5258 - val_loss: 157.8106 - val_mae: 9.8318\n",
            "Epoch 41/100\n",
            "2/2 [==============================] - 13s 6s/step - loss: 212.4687 - mae: 11.4977 - val_loss: 157.4438 - val_mae: 9.8251\n",
            "Epoch 42/100\n",
            "2/2 [==============================] - 13s 6s/step - loss: 212.1212 - mae: 11.4847 - val_loss: 156.4641 - val_mae: 9.8083\n",
            "Epoch 43/100\n",
            "2/2 [==============================] - 13s 6s/step - loss: 212.1347 - mae: 11.4800 - val_loss: 155.4994 - val_mae: 9.7938\n",
            "Epoch 44/100\n",
            "2/2 [==============================] - 13s 6s/step - loss: 214.2011 - mae: 11.5942 - val_loss: 149.3411 - val_mae: 9.6798\n",
            "Epoch 45/100\n",
            "2/2 [==============================] - 13s 6s/step - loss: 215.0367 - mae: 11.6619 - val_loss: 146.9405 - val_mae: 9.6234\n",
            "Epoch 46/100\n",
            "2/2 [==============================] - 13s 7s/step - loss: 212.2211 - mae: 11.6025 - val_loss: 150.3233 - val_mae: 9.7022\n",
            "Epoch 47/100\n",
            "2/2 [==============================] - 13s 7s/step - loss: 211.5778 - mae: 11.5493 - val_loss: 154.0292 - val_mae: 9.7728\n",
            "Epoch 48/100\n",
            "2/2 [==============================] - 13s 8s/step - loss: 210.9576 - mae: 11.4715 - val_loss: 160.8052 - val_mae: 9.8788\n",
            "Epoch 49/100\n",
            "2/2 [==============================] - 13s 7s/step - loss: 212.2309 - mae: 11.4656 - val_loss: 161.7091 - val_mae: 9.8915\n",
            "Epoch 50/100\n",
            "2/2 [==============================] - 15s 9s/step - loss: 212.3561 - mae: 11.4572 - val_loss: 159.4955 - val_mae: 9.8600\n",
            "Epoch 51/100\n",
            "2/2 [==============================] - 13s 8s/step - loss: 212.2190 - mae: 11.4883 - val_loss: 154.6555 - val_mae: 9.7832\n",
            "Epoch 52/100\n",
            "2/2 [==============================] - 13s 8s/step - loss: 211.3571 - mae: 11.4991 - val_loss: 153.1163 - val_mae: 9.7556\n",
            "Epoch 53/100\n",
            "2/2 [==============================] - 13s 8s/step - loss: 211.4298 - mae: 11.5138 - val_loss: 152.3506 - val_mae: 9.7411\n",
            "Epoch 54/100\n",
            "2/2 [==============================] - 14s 8s/step - loss: 213.6248 - mae: 11.5961 - val_loss: 149.0317 - val_mae: 9.6723\n",
            "Epoch 55/100\n",
            "2/2 [==============================] - 13s 7s/step - loss: 213.4775 - mae: 11.6124 - val_loss: 153.2215 - val_mae: 9.7575\n",
            "Epoch 56/100\n",
            "2/2 [==============================] - 14s 8s/step - loss: 211.9175 - mae: 11.5088 - val_loss: 156.0221 - val_mae: 9.8060\n",
            "Epoch 57/100\n",
            "2/2 [==============================] - 14s 9s/step - loss: 211.3712 - mae: 11.4841 - val_loss: 155.6280 - val_mae: 9.7997\n",
            "Epoch 58/100\n",
            "2/2 [==============================] - 13s 7s/step - loss: 211.3828 - mae: 11.4984 - val_loss: 153.7318 - val_mae: 9.7673\n",
            "Epoch 59/100\n",
            "2/2 [==============================] - 14s 8s/step - loss: 211.5161 - mae: 11.5200 - val_loss: 152.0639 - val_mae: 9.7366\n",
            "Epoch 60/100\n",
            "2/2 [==============================] - 13s 7s/step - loss: 211.3276 - mae: 11.5240 - val_loss: 152.7569 - val_mae: 9.7498\n",
            "Epoch 61/100\n",
            "2/2 [==============================] - 14s 8s/step - loss: 211.2770 - mae: 11.5129 - val_loss: 153.4517 - val_mae: 9.7625\n",
            "Epoch 62/100\n",
            "2/2 [==============================] - 14s 8s/step - loss: 211.7475 - mae: 11.5063 - val_loss: 155.6162 - val_mae: 9.7998\n",
            "Epoch 63/100\n",
            "2/2 [==============================] - 14s 9s/step - loss: 211.6390 - mae: 11.4855 - val_loss: 155.7947 - val_mae: 9.8027\n",
            "Epoch 64/100\n",
            "2/2 [==============================] - 13s 7s/step - loss: 211.5902 - mae: 11.5124 - val_loss: 152.4820 - val_mae: 9.7448\n",
            "Epoch 65/100\n",
            "2/2 [==============================] - 14s 8s/step - loss: 211.5033 - mae: 11.5161 - val_loss: 152.8692 - val_mae: 9.7520\n",
            "Epoch 66/100\n",
            "2/2 [==============================] - 13s 7s/step - loss: 212.8666 - mae: 11.5366 - val_loss: 154.3161 - val_mae: 9.7777\n",
            "Epoch 67/100\n",
            "2/2 [==============================] - 13s 7s/step - loss: 211.1342 - mae: 11.5054 - val_loss: 151.8726 - val_mae: 9.7332\n",
            "Epoch 68/100\n",
            "2/2 [==============================] - 13s 8s/step - loss: 211.2989 - mae: 11.5223 - val_loss: 150.5224 - val_mae: 9.7064\n",
            "Epoch 69/100\n",
            "2/2 [==============================] - 14s 8s/step - loss: 211.4723 - mae: 11.5408 - val_loss: 150.6386 - val_mae: 9.7088\n",
            "Epoch 70/100\n",
            "2/2 [==============================] - 14s 8s/step - loss: 212.4684 - mae: 11.5904 - val_loss: 150.4798 - val_mae: 9.7055\n",
            "Epoch 71/100\n",
            "2/2 [==============================] - 13s 7s/step - loss: 211.3390 - mae: 11.5257 - val_loss: 154.5017 - val_mae: 9.7808\n",
            "Epoch 72/100\n",
            "2/2 [==============================] - 13s 7s/step - loss: 211.6695 - mae: 11.4952 - val_loss: 158.2976 - val_mae: 9.8419\n",
            "Epoch 73/100\n",
            "2/2 [==============================] - 13s 7s/step - loss: 211.8920 - mae: 11.4797 - val_loss: 156.2782 - val_mae: 9.8105\n",
            "Epoch 74/100\n",
            "2/2 [==============================] - 14s 8s/step - loss: 211.4309 - mae: 11.4893 - val_loss: 154.0387 - val_mae: 9.7730\n",
            "Epoch 75/100\n",
            "2/2 [==============================] - 14s 8s/step - loss: 211.2550 - mae: 11.4975 - val_loss: 152.5332 - val_mae: 9.7458\n",
            "Epoch 76/100\n",
            "2/2 [==============================] - 14s 8s/step - loss: 211.2785 - mae: 11.5143 - val_loss: 152.0185 - val_mae: 9.7360\n",
            "Epoch 77/100\n",
            "2/2 [==============================] - 14s 8s/step - loss: 211.3544 - mae: 11.5192 - val_loss: 152.8519 - val_mae: 9.7516\n",
            "Epoch 78/100\n",
            "2/2 [==============================] - 14s 8s/step - loss: 211.5478 - mae: 11.4884 - val_loss: 154.2286 - val_mae: 9.7762\n",
            "Epoch 79/100\n",
            "2/2 [==============================] - 13s 7s/step - loss: 211.2752 - mae: 11.4980 - val_loss: 153.9959 - val_mae: 9.7721\n",
            "Epoch 80/100\n",
            "2/2 [==============================] - 14s 8s/step - loss: 211.2477 - mae: 11.4992 - val_loss: 153.0907 - val_mae: 9.7559\n",
            "Epoch 81/100\n",
            "2/2 [==============================] - 13s 7s/step - loss: 211.2904 - mae: 11.5111 - val_loss: 153.2179 - val_mae: 9.7582\n",
            "Epoch 82/100\n",
            "2/2 [==============================] - 14s 8s/step - loss: 211.2546 - mae: 11.5075 - val_loss: 152.9210 - val_mae: 9.7528\n",
            "Epoch 83/100\n",
            "2/2 [==============================] - 13s 8s/step - loss: 211.2632 - mae: 11.5083 - val_loss: 153.2353 - val_mae: 9.7586\n",
            "Epoch 84/100\n",
            "2/2 [==============================] - 13s 7s/step - loss: 211.2855 - mae: 11.5048 - val_loss: 153.6721 - val_mae: 9.7665\n",
            "Epoch 85/100\n",
            "2/2 [==============================] - 13s 7s/step - loss: 211.7395 - mae: 11.5226 - val_loss: 152.2860 - val_mae: 9.7410\n",
            "Epoch 86/100\n",
            "2/2 [==============================] - 13s 7s/step - loss: 211.4383 - mae: 11.5175 - val_loss: 152.9007 - val_mae: 9.7525\n",
            "Epoch 87/100\n",
            "2/2 [==============================] - 13s 6s/step - loss: 211.1889 - mae: 11.5012 - val_loss: 154.8413 - val_mae: 9.7868\n",
            "Epoch 88/100\n",
            "2/2 [==============================] - 13s 6s/step - loss: 212.8694 - mae: 11.4961 - val_loss: 158.5803 - val_mae: 9.8465\n",
            "Epoch 89/100\n",
            "2/2 [==============================] - 13s 7s/step - loss: 211.8385 - mae: 11.4617 - val_loss: 156.2629 - val_mae: 9.8104\n",
            "Epoch 90/100\n",
            "2/2 [==============================] - 13s 6s/step - loss: 211.8507 - mae: 11.5160 - val_loss: 150.4785 - val_mae: 9.7054\n",
            "Epoch 91/100\n",
            "2/2 [==============================] - 13s 6s/step - loss: 214.5099 - mae: 11.6152 - val_loss: 147.1833 - val_mae: 9.6294\n",
            "Epoch 92/100\n",
            "2/2 [==============================] - 13s 6s/step - loss: 212.2109 - mae: 11.6001 - val_loss: 151.2494 - val_mae: 9.7210\n",
            "Epoch 93/100\n",
            "2/2 [==============================] - 13s 6s/step - loss: 212.6377 - mae: 11.5052 - val_loss: 158.5418 - val_mae: 9.8460\n",
            "Epoch 94/100\n",
            "2/2 [==============================] - 13s 6s/step - loss: 211.8117 - mae: 11.4739 - val_loss: 158.0175 - val_mae: 9.8380\n",
            "Epoch 95/100\n",
            "2/2 [==============================] - 14s 8s/step - loss: 213.1983 - mae: 11.5239 - val_loss: 153.5985 - val_mae: 9.7651\n",
            "Epoch 96/100\n",
            "2/2 [==============================] - 13s 6s/step - loss: 211.5501 - mae: 11.5022 - val_loss: 154.7791 - val_mae: 9.7856\n",
            "Epoch 97/100\n",
            "2/2 [==============================] - 13s 6s/step - loss: 211.4128 - mae: 11.4859 - val_loss: 152.8473 - val_mae: 9.7513\n",
            "Epoch 98/100\n",
            "2/2 [==============================] - 13s 7s/step - loss: 213.4662 - mae: 11.5726 - val_loss: 150.3200 - val_mae: 9.7016\n",
            "Epoch 99/100\n",
            "2/2 [==============================] - 13s 7s/step - loss: 211.4905 - mae: 11.5448 - val_loss: 152.9684 - val_mae: 9.7536\n",
            "Epoch 100/100\n",
            "2/2 [==============================] - 13s 7s/step - loss: 211.4807 - mae: 11.4822 - val_loss: 158.0949 - val_mae: 9.8391\n"
          ]
        }
      ]
    },
    {
      "cell_type": "code",
      "source": [
        "model.summary()"
      ],
      "metadata": {
        "colab": {
          "base_uri": "https://localhost:8080/"
        },
        "id": "eLSMwN2kC9L8",
        "outputId": "3c9c0cda-096a-42fe-c206-8b60d3e0c675"
      },
      "execution_count": null,
      "outputs": [
        {
          "output_type": "stream",
          "name": "stdout",
          "text": [
            "Model: \"transformer_model_17\"\n",
            "_________________________________________________________________\n",
            " Layer (type)                Output Shape              Param #   \n",
            "=================================================================\n",
            " dense_58 (Dense)            multiple                  21248     \n",
            "                                                                 \n",
            " embedding_20 (Embedding)    multiple                  63616     \n",
            "                                                                 \n",
            " multi_head_attention_14 (M  multiple                  263808    \n",
            " ultiHeadAttention)                                              \n",
            "                                                                 \n",
            " dense_59 (Dense)            multiple                  8256      \n",
            "                                                                 \n",
            " dense_60 (Dense)            multiple                  65        \n",
            "                                                                 \n",
            "=================================================================\n",
            "Total params: 356993 (1.36 MB)\n",
            "Trainable params: 356993 (1.36 MB)\n",
            "Non-trainable params: 0 (0.00 Byte)\n",
            "_________________________________________________________________\n"
          ]
        }
      ]
    },
    {
      "cell_type": "markdown",
      "source": [
        "## Model History"
      ],
      "metadata": {
        "id": "Ijkj6_YC9FR3"
      }
    },
    {
      "cell_type": "code",
      "source": [
        "import matplotlib.pyplot as plt"
      ],
      "metadata": {
        "id": "aDWqY1FeL_aV"
      },
      "execution_count": null,
      "outputs": []
    },
    {
      "cell_type": "code",
      "source": [
        "loss = history.history['loss']\n",
        "val_loss = history.history['val_loss']\n",
        "\n",
        "epochs = range(len(loss))\n",
        "plt.plot(epochs, loss, label='Training Loss')\n",
        "plt.plot(epochs, val_loss, label='Validation Loss')\n",
        "plt.title('Training and Validation Loss')\n",
        "plt.xlabel('Epoch')\n",
        "plt.ylabel('Loss')\n",
        "plt.legend()\n",
        "plt.show()"
      ],
      "metadata": {
        "colab": {
          "base_uri": "https://localhost:8080/",
          "height": 472
        },
        "id": "H0-y50An75H7",
        "outputId": "3be1b690-8ab2-4380-9408-36e2e107953f"
      },
      "execution_count": null,
      "outputs": [
        {
          "output_type": "display_data",
          "data": {
            "text/plain": [
              "<Figure size 640x480 with 1 Axes>"
            ],
            "image/png": "[encoded data removed]"
          },
          "metadata": {}
        }
      ]
    },
    {
      "cell_type": "code",
      "source": [
        "mae = history.history['mae']\n",
        "val_mae = history.history['val_mae']\n",
        "\n",
        "epochs = range(len(loss))\n",
        "plt.plot(epochs, mae, label='Training MAE')\n",
        "plt.plot(epochs, val_mae, label='Validation MAE')\n",
        "plt.title('Training and Validation MAE')\n",
        "plt.xlabel('Epoch')\n",
        "plt.ylabel('Loss')\n",
        "plt.legend()\n",
        "plt.show()"
      ],
      "metadata": {
        "colab": {
          "base_uri": "https://localhost:8080/",
          "height": 472
        },
        "id": "9e4aEz2Y8P_t",
        "outputId": "66158e36-afd1-4b23-d2cc-6c28c6584c44"
      },
      "execution_count": null,
      "outputs": [
        {
          "output_type": "display_data",
          "data": {
            "text/plain": [
              "<Figure size 640x480 with 1 Axes>"
            ],
            "image/png": "[encoded data removed]"
          },
          "metadata": {}
        }
      ]
    },
    {
      "cell_type": "code",
      "source": [],
      "metadata": {
        "id": "lWl7o6vP8adm"
      },
      "execution_count": null,
      "outputs": []
    },
    {
      "cell_type": "code",
      "source": [],
      "metadata": {
        "id": "m60SpHPwGUPK"
      },
      "execution_count": null,
      "outputs": []
    }
  ]
}